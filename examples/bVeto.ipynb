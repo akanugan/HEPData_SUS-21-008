{
 "cells": [
  {
   "cell_type": "markdown",
   "metadata": {},
   "source": [
    "# Reading histograms\n",
    "\n",
    "One of the most common tasks will be translating [ROOT](https://root.cern.ch) histograms into the HEPData format. `hepdata_lib` will help you with that, and this notebook will demonstrate how to do that.\n",
    "\n",
    "As explained in the [Getting started notebook](Getting_started.ipynb), a `Submission` needs to exist or be created. Here, we'll just create one without any additional information:"
   ]
  },
  {
   "cell_type": "code",
   "execution_count": 1,
   "metadata": {},
   "outputs": [
    {
     "name": "stdout",
     "output_type": "stream",
     "text": [
      "Welcome to JupyROOT 6.22/06\n"
     ]
    }
   ],
   "source": [
    "from hepdata_lib import Submission\n",
    "submission = Submission()"
   ]
  },
  {
   "cell_type": "markdown",
   "metadata": {},
   "source": [
    "The plot will be a `Table`, in this example Figure 4a from page 12 (upper left) of the [publication](https://cms-results.web.cern.ch/cms-results/public-results/publications/B2G-17-009/index.html), which shows the distribution of the reconstructed B quark mass for the data as well as the individual simulated processes. Let's add all this, some more details as well as the actual plot (for thumbnail creation) to the `Table`:"
   ]
  },
  {
   "cell_type": "code",
   "execution_count": 2,
   "metadata": {},
   "outputs": [],
   "source": [
    "from hepdata_lib import Table\n",
    "# table = Table(\"Figure 4a\")\n",
    "# table.description = \"Distribution in the reconstructed B quark mass, after applying all selections to events with no forward jet, compared to the background distributions estimated before fitting. The plot refers to the low-mass mB analysis. The expectations for signal MC events are given by the blue histogram lines. Different contributions to background are indicated by the colour-filled histograms. The grey-hatched error band shows total uncertainties in the background expectation. The ratio of observations to background expectations is given in the lower panel, together with the total uncertainties prior to fitting, indicated by the grey-hatched band.\"\n",
    "# table.location = \"Data from Figure 4 (upper left), located on page 12.\"\n",
    "# table.keywords[\"observables\"] = [\"N\"]\n",
    "# table.add_image(\"example_inputs/CMS-B2G-17-009_Figure_004-a.pdf\")\n",
    "\n",
    "table = Table(\"Figure 3a\")\n",
    "table.description = \"bVeto MET distibution ..... to be filled\"\n",
    "table.location = \"Data from Figure 3 (upper left), located on page 13.\"\n",
    "table.keywords[\"observables\"] = [\"N\"]\n",
    "table.add_image(\"example_inputs/SUS-21-002/CMS-SUS-21-002_Figure_003-a.pdf\")"
   ]
  },
  {
   "cell_type": "markdown",
   "metadata": {},
   "source": [
    "The individual plot components are stored in different ROOT files, one for the individual background processes (one histogram per process plus the total), another one for the data, and the third for the signal process. All histograms here are of type [TH1](https://root.cern.ch/doc/master/classTH1.html), but you can also read in 2-dimensional [TH2](https://root.cern.ch/doc/master/classTH2.html) using `read_hist_2d(...)` instead of `read_hist_1d(...)`:"
   ]
  },
  {
   "cell_type": "code",
   "execution_count": 12,
   "metadata": {},
   "outputs": [],
   "source": [
    "from hepdata_lib import RootFileReader\n",
    "\n",
    "# reader = RootFileReader(\"example_inputs/mlfit_lm_1000.root\")\n",
    "# reader_data = RootFileReader(\"example_inputs/Data_cat0_singleH.root\")\n",
    "# reader_signal = RootFileReader(\"example_inputs/BprimeBToHB1000_cat0_singleH.root\")\n",
    "\n",
    "# TotalBackground = reader.read_hist_1d(\"shapes_prefit/cat0_singleH/total_background\")\n",
    "# TT = reader.read_hist_1d(\"shapes_prefit/cat0_singleH/TT\")\n",
    "# QCD = reader.read_hist_1d(\"shapes_prefit/cat0_singleH/QCDTT\")\n",
    "# WJets = reader.read_hist_1d(\"shapes_prefit/cat0_singleH/WJets\")\n",
    "# ZJets = reader.read_hist_1d(\"shapes_prefit/cat0_singleH/ZJets\")\n",
    "\n",
    "# Data = reader_data.read_hist_1d(\"h_bprimemass_SRlm\")\n",
    "\n",
    "# signal = reader_signal.read_hist_1d(\"h_bprimemass_SRlm\")\n",
    "\n",
    "reader = RootFileReader(\"example_inputs/SUS-21-002/combined_PostFitPredictions_Run2_Mask.root\")\n",
    "reader_signalWZ = RootFileReader(\"example_inputs/SUS-21-002/TChiWZ_600_1_MCRun2.root\")\n",
    "reader_signalWW = RootFileReader(\"example_inputs/SUS-21-002/TChiWW_500_1_MCRun2.root\")\n",
    "\n",
    "TotalBackground = reader.read_hist_1d(\"TotalBG\")\n",
    "ZEROONERES = reader.read_hist_1d(\"zeroOneres\")\n",
    "TWORES = reader.read_hist_1d(\"Twores\")\n",
    "\n",
    "Data = reader.read_hist_1d(\"DataFit\")\n",
    "\n",
    "signalWZ = reader_signalWZ.read_hist_1d(\"METvBin\")\n",
    "signalWW = reader_signalWW.read_hist_1d(\"METvBin\")"
   ]
  },
  {
   "cell_type": "markdown",
   "metadata": {},
   "source": [
    "The content of the histograms is stored as a dictionary, with keys `x` (bin center), `y` (bin value or for `TH2` the bin center of the 2nd dimension), `z` (`TH2` only: bin value), as well as the bin errors `dy` (`dz` for `TH2`). Furthermore, the lower and upper bin edges (`x_edges`, for `TH2` also `y_edges`) are stored for each bin:"
   ]
  },
  {
   "cell_type": "code",
   "execution_count": 7,
   "metadata": {},
   "outputs": [
    {
     "data": {
      "text/plain": [
       "dict_keys(['x', 'y', 'x_edges', 'x_labels', 'dy'])"
      ]
     },
     "execution_count": 7,
     "metadata": {},
     "output_type": "execute_result"
    }
   ],
   "source": [
    "TotalBackground.keys()"
   ]
  },
  {
   "cell_type": "markdown",
   "metadata": {},
   "source": [
    "The `RootFileReader` automatically recognises if the histogram has symmetric or assymmetric errors based on [TH1::GetBinErrorOption()](https://root.cern.ch/doc/master/classTH1.html#ac6e38c12259ab72c0d574614ee5a61c7). Symmetric errors are returned if this returns `TH1::kNormal`, in this case (as for the example here) the errors are a plain `float` per bin, otherwise a `tuple` of `float`. The bin edges are always stored as `tuple`:"
   ]
  },
  {
   "cell_type": "code",
   "execution_count": 8,
   "metadata": {},
   "outputs": [
    {
     "name": "stdout",
     "output_type": "stream",
     "text": [
      "x <class 'list'> <class 'float'>\n",
      "y <class 'list'> <class 'float'>\n",
      "x_edges <class 'list'> <class 'tuple'>\n",
      "x_labels <class 'list'> <class 'str'>\n",
      "dy <class 'list'> <class 'float'>\n"
     ]
    }
   ],
   "source": [
    "from __future__ import print_function\n",
    "for key in TotalBackground.keys():\n",
    "    print(key, type(TotalBackground[key]), type(TotalBackground[key][0]))"
   ]
  },
  {
   "cell_type": "markdown",
   "metadata": {},
   "source": [
    "Now define the variables:"
   ]
  },
  {
   "cell_type": "code",
   "execution_count": 13,
   "metadata": {},
   "outputs": [],
   "source": [
    "from hepdata_lib import Variable, Uncertainty\n",
    "\n",
    "# # x-axis: B quark mass\n",
    "# mmed = Variable(\"$M_{bH}$\", is_independent=True, is_binned=False, units=\"GeV\")\n",
    "# mmed.values = signal[\"x\"]\n",
    "\n",
    "# # y-axis: N events\n",
    "# sig = Variable(\"Number of signal events\", is_independent=False, is_binned=False, units=\"\")\n",
    "# sig.values = signal[\"y\"]\n",
    "\n",
    "# totalbackground = Variable(\"Number of background events\", is_independent=False, is_binned=False, units=\"\")\n",
    "# totalbackground.values = TotalBackground[\"y\"]\n",
    "\n",
    "# tt = Variable(\"Number of ttbar events\", is_independent=False, is_binned=False, units=\"\")\n",
    "# tt.values = TT[\"y\"]\n",
    "\n",
    "# qcd = Variable(\"Number of qcd events\", is_independent=False, is_binned=False, units=\"\")\n",
    "# qcd.values = QCD[\"y\"]\n",
    "\n",
    "# wjets = Variable(\"Number of wjets events\", is_independent=False, is_binned=False, units=\"\")\n",
    "# wjets.values = WJets[\"y\"]\n",
    "\n",
    "# zjets = Variable(\"Number of zjets events\", is_independent=False, is_binned=False, units=\"\")\n",
    "# zjets.values = ZJets[\"y\"]\n",
    "\n",
    "# data = Variable(\"Number of data events\", is_independent=False, is_binned=False, units=\"\")\n",
    "# data.values = Data[\"y\"]\n",
    "\n",
    "#-----------\n",
    "\n",
    "# x-axis: MET\n",
    "mmed = Variable(\"$p_{miss}^{T}$\", is_independent=True, is_binned=False, units=\"GeV\")\n",
    "mmed.values = signal_WZ[\"x\"]\n",
    "\n",
    "sigWZ = Variable(\"Number of WZ signal events\", is_independent=False, is_binned=False, units=\"\")\n",
    "sigWZ.values = signalWZ[\"y\"]\n",
    "\n",
    "# y-axis: N events\n",
    "sigWW = Variable(\"Number of WW signal events\", is_independent=False, is_binned=False, units=\"\")\n",
    "sigWW.values = signalWW[\"y\"]\n",
    "\n",
    "totalbackground = Variable(\"Number of background events\", is_independent=False, is_binned=False, units=\"\")\n",
    "totalbackground.values = TotalBackground[\"y\"]\n",
    "\n",
    "zeroOneRes = Variable(\"Number of 0,1 res BG events\", is_independent=False, is_binned=False, units=\"\")\n",
    "zeroOneRes.values = ZEROONERES[\"y\"]\n",
    "\n",
    "twoRes = Variable(\"Number of 2 res BG events\", is_independent=False, is_binned=False, units=\"\")\n",
    "twoRes.values = TWORES[\"y\"]\n",
    "\n",
    "data = Variable(\"Number of data events\", is_independent=False, is_binned=False, units=\"\")\n",
    "data.values = Data[\"y\"]"
   ]
  },
  {
   "cell_type": "markdown",
   "metadata": {},
   "source": [
    "For the data as well as the background total, we will also provide the associated uncertainties:"
   ]
  },
  {
   "cell_type": "code",
   "execution_count": 14,
   "metadata": {},
   "outputs": [],
   "source": [
    "from hepdata_lib import Uncertainty\n",
    "\n",
    "unc_totalbackground = Uncertainty(\"total uncertainty\", is_symmetric=True)\n",
    "unc_totalbackground.values = TotalBackground[\"dy\"]\n",
    "\n",
    "unc_data = Uncertainty(\"Poisson errors\", is_symmetric=True)\n",
    "unc_data.values = Data[\"dy\"]\n",
    "\n",
    "totalbackground.add_uncertainty(unc_totalbackground)\n",
    "data.add_uncertainty(unc_data)"
   ]
  },
  {
   "cell_type": "markdown",
   "metadata": {},
   "source": [
    "Now we can add the variables to the `Table` and the `Table` to the `Submission`, and create the files. Please refer to the [Getting started notebook](Getting_started.ipynb) for a complete example."
   ]
  },
  {
   "cell_type": "code",
   "execution_count": 15,
   "metadata": {},
   "outputs": [],
   "source": [
    "table.add_variable(mmed)\n",
    "table.add_variable(sigWZ)\n",
    "table.add_variable(sigWW)\n",
    "table.add_variable(totalbackground)\n",
    "table.add_variable(zeroOneRes)\n",
    "table.add_variable(twoRes)\n",
    "table.add_variable(data)\n",
    "\n",
    "submission.add_table(table)\n",
    "\n",
    "submission.create_files(\"bVeto\",remove_old=True)"
   ]
  },
  {
   "cell_type": "code",
   "execution_count": 17,
   "metadata": {},
   "outputs": [
    {
     "name": "stdout",
     "output_type": "stream",
     "text": [
      "dependent_variables:\r\n",
      "- header:\r\n",
      "    name: Number of WZ signal events\r\n",
      "  values:\r\n",
      "  - value: 4.7277\r\n",
      "  - value: 5.6517\r\n",
      "  - value: 5.9677\r\n",
      "  - value: 6.3413\r\n",
      "  - value: 5.7479\r\n",
      "  - value: 6.0095\r\n"
     ]
    }
   ],
   "source": [
    "!head bVeto/figure_3a.yaml"
   ]
  },
  {
   "cell_type": "code",
   "execution_count": null,
   "metadata": {},
   "outputs": [],
   "source": []
  }
 ],
 "metadata": {
  "kernelspec": {
   "display_name": "Python 3",
   "language": "python",
   "name": "python3"
  },
  "language_info": {
   "codemirror_mode": {
    "name": "ipython",
    "version": 3
   },
   "file_extension": ".py",
   "mimetype": "text/x-python",
   "name": "python",
   "nbconvert_exporter": "python",
   "pygments_lexer": "ipython3",
   "version": "3.9.0"
  }
 },
 "nbformat": 4,
 "nbformat_minor": 2
}
