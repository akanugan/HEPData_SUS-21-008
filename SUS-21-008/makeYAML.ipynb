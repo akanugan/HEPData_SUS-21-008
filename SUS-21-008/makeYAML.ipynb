{
 "cells": [
  {
   "cell_type": "markdown",
   "metadata": {},
   "source": [
    "# Reading histograms\n",
    "\n",
    "One of the most common tasks will be translating [ROOT](https://root.cern.ch) histograms into the HEPData format. `hepdata_lib` will help you with that, and this notebook will demonstrate how to do that.\n",
    "\n",
    "As explained in the [Getting started notebook](Getting_started.ipynb), a `Submission` needs to exist or be created. Here, we'll just create one without any additional information:"
   ]
  },
  {
   "cell_type": "code",
   "execution_count": 103,
   "metadata": {},
   "outputs": [],
   "source": [
    "from hepdata_lib import Submission, Table, RootFileReader, Variable, Uncertainty\n",
    "submission = Submission()\n",
    "# Submission text\n",
    "#submission.read_abstract(\"abstract.txt\")\n",
    "submission.add_link(\"Webpage with all figures and tables\", \"https://cms-results.web.cern.ch/cms-results/public-results/publications/SUS-21-008/\")\n",
    "#submission.add_link(\"arXiv\", \"Fill later\")\n",
    "#submission.add_record_id(1111, \"inspire\")"
   ]
  },
  {
   "cell_type": "markdown",
   "metadata": {},
   "source": [
    "The plot will be a `Table`, in this example Figure 4a from page 12 (upper left) of the [publication](https://cms-results.web.cern.ch/cms-results/public-results/publications/B2G-17-009/index.html), which shows the distribution of the reconstructed B quark mass for the data as well as the individual simulated processes. Let's add all this, some more details as well as the actual plot (for thumbnail creation) to the `Table`:"
   ]
  },
  {
   "cell_type": "code",
   "execution_count": 104,
   "metadata": {},
   "outputs": [],
   "source": [
    "import hepdata_lib\n",
    "import ROOT\n",
    "\n",
    "def extract_y_values_and_errors(file_path, is_symmetric=False):\n",
    "    # Open the ROOT file\n",
    "    tf = ROOT.TFile.Open(file_path)\n",
    "    if not tf or tf.IsZombie():\n",
    "        raise RuntimeError(f\"Error: Could not open the ROOT file '{file_path}'.\")\n",
    "\n",
    "    # Create a list to hold the variables for each TGraphAsymmErrors\n",
    "    variable_list = []\n",
    "\n",
    "    # Loop over all objects in the ROOT file\n",
    "    key_list = tf.GetListOfKeys()\n",
    "    for key in key_list:\n",
    "        obj = key.ReadObj()\n",
    "\n",
    "        # Check if the object is a TGraphAsymmErrors\n",
    "        if isinstance(obj, ROOT.TGraphAsymmErrors):\n",
    "            # Extract the y-values and asymmetric errors\n",
    "            y_values = [obj.GetY()[i] for i in range(obj.GetN())]\n",
    "            errors_low = [obj.GetErrorYlow(i) for i in range(obj.GetN())]\n",
    "            errors_high = [obj.GetErrorYhigh(i) for i in range(obj.GetN())]\n",
    "\n",
    "            # Get the name of the TGraphAsymmErrors as the variable name\n",
    "            var_name = obj.GetName()\n",
    "\n",
    "            # Create a variable for the current TGraphAsymmErrors\n",
    "            variable = hepdata_lib.Variable(var_name, values=y_values, is_independent=False, is_binned=False)\n",
    "\n",
    "            # Create an uncertainty object to hold the asymmetric errors\n",
    "            unc = hepdata_lib.Uncertainty(label=f\"{var_name}_unc\", is_symmetric=is_symmetric)\n",
    "\n",
    "            # Add the asymmetric errors to the uncertainty object\n",
    "            unc.values = [(error_low, error_high) for error_low, error_high in zip(errors_low, errors_high)]\n",
    "\n",
    "            # Add the uncertainty object to the variable\n",
    "            variable.add_uncertainty(unc)\n",
    "\n",
    "            # Add the variable to the list\n",
    "            variable_list.append(variable)\n",
    "\n",
    "    # Close the ROOT file\n",
    "    tf.Close()\n",
    "\n",
    "    return variable_list\n"
   ]
  },
  {
   "cell_type": "code",
   "execution_count": 105,
   "metadata": {},
   "outputs": [],
   "source": [
    "variable_list = extract_y_values_and_errors(\"hists_fig_6-8.root\")\n",
    "# Save the variables to a file\n",
    "output_file = \"variables.pkl\"\n",
    "with open(output_file, 'wb') as f:\n",
    "    pickle.dump(variable_list, f)\n",
    "\n",
    "\n",
    "loaded_variables = None\n",
    "with open(output_file, 'rb') as f:\n",
    "    loaded_variables = pickle.load(f)"
   ]
  },
  {
   "cell_type": "code",
   "execution_count": 135,
   "metadata": {},
   "outputs": [],
   "source": [
    "def getTH1Ds(inputFile, fig, location, prefix, vars, title):\n",
    "    table = Table(fig)\n",
    "    table.description = title\n",
    "    table.location = location\n",
    "    table.keywords[\"cmenergies\"] = [\"13000\"]\n",
    "    table.keywords[\"observables\"] = [\"N\"]\n",
    "    table.keywords[\"phrases\"] = [\"Supersymmetry\", \"SUSY\"]\n",
    "    reader = RootFileReader(inputFile)\n",
    "    #Data = reader.read_hist_1d(prefix+\"data\")\n",
    "    \n",
    "    for var in vars:\n",
    "        readHist = reader.read_hist_1d(prefix+var)\n",
    "        varHist = Variable(\"Number of \"+var, is_independent=False, is_binned=False, units=\"\")\n",
    "        varHist.values = readHist[\"y\"]\n",
    "        table.add_variable(varHist)\n",
    "    \n",
    "    loaded_variables = None\n",
    "    with open(output_file, 'rb') as f:\n",
    "        loaded_variables = pickle.load(f) \n",
    "    print(loaded_variables)\n",
    "    \n",
    "    def find_variable_by_name(variable_list, name):\n",
    "        for variable in variable_list:\n",
    "            if variable.name == name:\n",
    "                return variable\n",
    "        return None\n",
    "    \n",
    "    v1 = find_variable_by_name(variable_list, prefix+\"background_errors\")\n",
    "    table.add_variable(v1)\n",
    "    v2 = find_variable_by_name(variable_list, prefix+\"data_graph\")\n",
    "    table.add_variable(v2)\n",
    "    #table.add_variable(prefix+\"background_errors\")\n",
    "    #table.add_variable(prefix+\"data_graph\")\n",
    "        \n",
    "#     signalWZ1_ = reader.read_hist_1d(prefix+\"signal_TChiWZ_200_180_norm\")\n",
    "#     prompt_vv_ = reader.read_hist_1d(prefix+\"prompt_vv\")\n",
    "#     nonprompt_l_ = reader.read_hist_1d(prefix+\"FRfakes_data\")\n",
    "#     prompt_dy_ = reader.read_hist_1d(prefix+\"prompt_dy\")\n",
    "#     prompt_tt_ = reader.read_hist_1d(prefix+\"prompt_tt\")\n",
    "#     totalBG_ = reader.read_hist_1d(prefix+\"background\")\n",
    "    \n",
    "    X = reader.read_hist_1d(prefix+vars[0])\n",
    "    xBins = Variable(\"$p_{T}^{miss}$\", is_independent=True, is_binned=True, units=\"GeV\")\n",
    "    xBins.values = X[\"x_edges\"]\n",
    "    table.add_variable(X)\n",
    "    \n",
    "    \n",
    "    submission.add_table(table)"
   ]
  },
  {
   "cell_type": "code",
   "execution_count": 107,
   "metadata": {},
   "outputs": [
    {
     "name": "stdout",
     "output_type": "stream",
     "text": [
      "[<hepdata_lib.Variable object at 0x7f52664a7730>, <hepdata_lib.Variable object at 0x7f52664a7eb0>, <hepdata_lib.Variable object at 0x7f52664a78e0>, <hepdata_lib.Variable object at 0x7f52664a7f40>, <hepdata_lib.Variable object at 0x7f52664a7d90>, <hepdata_lib.Variable object at 0x7f5266864550>, <hepdata_lib.Variable object at 0x7f5266864670>, <hepdata_lib.Variable object at 0x7f5266864130>, <hepdata_lib.Variable object at 0x7f526685e250>, <hepdata_lib.Variable object at 0x7f526685e940>, <hepdata_lib.Variable object at 0x7f526685ebe0>, <hepdata_lib.Variable object at 0x7f526685e4f0>, <hepdata_lib.Variable object at 0x7f526685ed60>, <hepdata_lib.Variable object at 0x7f526685e8e0>, <hepdata_lib.Variable object at 0x7f526685e790>, <hepdata_lib.Variable object at 0x7f526685e460>, <hepdata_lib.Variable object at 0x7f526685eee0>, <hepdata_lib.Variable object at 0x7f526685e580>, <hepdata_lib.Variable object at 0x7f526615df70>, <hepdata_lib.Variable object at 0x7f526615d910>]\n"
     ]
    }
   ],
   "source": [
    "getTH1Ds(\n",
    "    inputFile  = \"hists_fig_6-8.root\",\n",
    "    fig = \"Figure 6\",\n",
    "    location = \"On Page ..\",\n",
    "    prefix   = \"SR_2l_ewk_dM20_low_\",\n",
    "    vars = [\"prompt_wz\",\"prompt_vv\",\"FRfakes_data\",\"prompt_dy\",\"prompt_tt\",\"background\",\"signal_TChiWZ_200_180_norm\"],\n",
    "    title    = \"Postfit distribution of observed and expected yields for signal regions in the 2l soft category\",\n",
    ")"
   ]
  },
  {
   "cell_type": "code",
   "execution_count": null,
   "metadata": {},
   "outputs": [],
   "source": []
  },
  {
   "cell_type": "code",
   "execution_count": 108,
   "metadata": {},
   "outputs": [],
   "source": [
    "table = Table(\"Figure 9\")\n",
    "table.description = \"Observed and exected yields across the search region in the 3 lepton serach in cat.A\"\n",
    "table.location = \"Data from Figure 9, located on page 14.\"\n",
    "table.keywords[\"cmenergies\"] = [\"13000\"]\n",
    "table.keywords[\"observables\"] = [\"N\"]\n",
    "#table.add_image(\"CMS-SUS-21-002_Figure_003-a.pdf\")\n",
    "table.keywords[\"phrases\"] = [\"Supersymmetry\", \"SUSY\"]\n",
    "#table.keywords[\"reactions\"] = [\"P P --> GRAVITON --> W+ W-\", \"P P --> WPRIME --> W+/W- Z0\"]"
   ]
  },
  {
   "cell_type": "code",
   "execution_count": null,
   "metadata": {},
   "outputs": [],
   "source": []
  },
  {
   "cell_type": "markdown",
   "metadata": {},
   "source": [
    "The individual plot components are stored in different ROOT files, one for the individual background processes (one histogram per process plus the total), another one for the data, and the third for the signal process. All histograms here are of type [TH1](https://root.cern.ch/doc/master/classTH1.html), but you can also read in 2-dimensional [TH2](https://root.cern.ch/doc/master/classTH2.html) using `read_hist_2d(...)` instead of `read_hist_1d(...)`:"
   ]
  },
  {
   "cell_type": "code",
   "execution_count": 109,
   "metadata": {},
   "outputs": [],
   "source": [
    "reader = RootFileReader(\"figures_9-10.root\")\n",
    "\n",
    "Data = reader.read_hist_1d(\"SR_3lAnew_data\")\n",
    "signalWZ1 = reader.read_hist_1d(\"SR_3lAnew_TChiWZ_200_160_norm\")\n",
    "signalWZ2 = reader.read_hist_1d(\"SR_3lAnew_TChiWZ_600_100_norm\")\n",
    "signalWH1 = reader.read_hist_1d(\"SR_3lAnew_TChiWH_150_1_norm\")\n",
    "signalWH2 = reader.read_hist_1d(\"SR_3lAnew_TChiWH_150_25_norm\")\n",
    "prompt_WZ_ = reader.read_hist_1d(\"SR_3lAnew_prompt_WZ\")\n",
    "prompt_VH_ = reader.read_hist_1d(\"SR_3lAnew_prompt_VH\")\n",
    "nonprompt_l_ = reader.read_hist_1d(\"SR_3lAnew_data_fakes\")\n",
    "prompt_ZZ_ = reader.read_hist_1d(\"SR_3lAnew_prompt_ZZ\")\n",
    "prompt_VVV_ = reader.read_hist_1d(\"SR_3lAnew_prompt_VVV\")\n",
    "prompt_ttX_ = reader.read_hist_1d(\"SR_3lAnew_prompt_TTX\")\n",
    "totalBG_ = reader.read_hist_1d(\"SR_3lAnew_total\")\n"
   ]
  },
  {
   "cell_type": "code",
   "execution_count": 110,
   "metadata": {},
   "outputs": [],
   "source": [
    "xBins = Variable(\"$p_{T}^{miss}$\", is_independent=True, is_binned=True, units=\"GeV\")\n",
    "xBins.values = Data[\"x_edges\"]\n",
    "\n",
    "sigWZ1 = Variable(\"Number of WZ1 signal events\", is_independent=False, is_binned=False, units=\"\")\n",
    "sigWZ1.values = signalWZ1[\"y\"]\n",
    "sigWZ2 = Variable(\"Number of WZ2 signal events\", is_independent=False, is_binned=False, units=\"\")\n",
    "sigWZ2.values = signalWZ2[\"y\"]\n",
    "sigWH1 = Variable(\"Number of WH1 signal events\", is_independent=False, is_binned=False, units=\"\")\n",
    "sigWH1.values = signalWH1[\"y\"]\n",
    "sigWH2 = Variable(\"Number of WH2 signal events\", is_independent=False, is_binned=False, units=\"\")\n",
    "sigWH2.values = signalWH2[\"y\"]\n",
    "\n",
    "prompt_WZ = Variable(\"Number of prompt_WZ\", is_independent=False, is_binned=False, units=\"\")\n",
    "prompt_VH = Variable(\"Number of prompt_VH\", is_independent=False, is_binned=False, units=\"\")\n",
    "nonprompt_l = Variable(\"Number of nonprompt leptons\", is_independent=False, is_binned=False, units=\"\")\n",
    "prompt_ZZ = Variable(\"Number of ZZ\", is_independent=False, is_binned=False, units=\"\")\n",
    "prompt_VVV = Variable(\"Number of VVV\", is_independent=False, is_binned=False, units=\"\")\n",
    "prompt_ttX = Variable(\"Number of ttX\", is_independent=False, is_binned=False, units=\"\")\n",
    "\n",
    "prompt_WZ.values = prompt_WZ_[\"y\"]\n",
    "prompt_VH.values = prompt_VH_[\"y\"]\n",
    "nonprompt_l.values = nonprompt_l_[\"y\"]\n",
    "prompt_ZZ.values = prompt_ZZ_[\"y\"]\n",
    "prompt_VVV.values = prompt_VVV_[\"y\"]\n",
    "prompt_ttX.values = prompt_ttX_[\"y\"]\n",
    "\n",
    "totalbackground = Variable(\"Number of background events\", is_independent=False, is_binned=False, units=\"\")\n",
    "totalbackground.values = totalBG_[\"y\"]\n",
    "\n",
    "data = Variable(\"Number of data events\", is_independent=False, is_binned=False, units=\"\")\n",
    "data.values = Data[\"y\"]"
   ]
  },
  {
   "cell_type": "code",
   "execution_count": 111,
   "metadata": {},
   "outputs": [],
   "source": [
    "unc_totalbackground = Uncertainty(\"Total uncertainty\", is_symmetric=True)\n",
    "unc_totalbackground.values = totalBG_[\"dy\"]\n",
    "\n",
    "unc_data = Uncertainty(\"Data uncertainty\", is_symmetric=True)\n",
    "unc_data.values = Data[\"dy\"]\n",
    "\n",
    "totalbackground.add_uncertainty(unc_totalbackground)\n",
    "data.add_uncertainty(unc_data)"
   ]
  },
  {
   "cell_type": "code",
   "execution_count": 112,
   "metadata": {},
   "outputs": [],
   "source": [
    "table.add_variable(xBins)\n",
    "table.add_variable(sigWZ1)\n",
    "table.add_variable(sigWZ2)\n",
    "table.add_variable(sigWH1)\n",
    "table.add_variable(sigWH2)\n",
    "table.add_variable(prompt_WZ)\n",
    "table.add_variable(prompt_VH)\n",
    "table.add_variable(nonprompt_l)\n",
    "table.add_variable(prompt_ZZ)\n",
    "table.add_variable(prompt_VVV)\n",
    "table.add_variable(prompt_ttX)\n",
    "table.add_variable(totalbackground)\n",
    "table.add_variable(data)\n",
    "\n",
    "\n",
    "submission.add_table(table)"
   ]
  },
  {
   "cell_type": "code",
   "execution_count": 113,
   "metadata": {},
   "outputs": [],
   "source": [
    "def get2DScanFromText(txtfile, depUncs = [], pdf = None, qualifiers = [], obs = None, location = \"\", title = \"\", xlabel = \"\", ylabel = \"\", zlabel=\"\", unitsx=\"GeV\", unitsy=\"GeV\", unitsz=\"\", ttitle=\"\"):\n",
    "  print(txtfile)\n",
    "  inPDF = pdf\n",
    "  fig = Table(ttitle)\n",
    "  fig.description = title\n",
    "  fig.location    = location\n",
    "  fig.keywords[\"observables\"] = obs\n",
    "  theDict = {\"Mass1\": 0, \"Mass2\": 1, \"Expected, median\":4, \"Obsserved\":7, \"Expected, -2$\\sigma$\": 2, \"Expected, -1$\\sigma$\":3, \"Expected, +1$\\sigma$\": 5, \"Expected, +2$\\sigma$\":6}  \n",
    "  theVals = {i:[] for i in theDict.keys()}\n",
    "  xvals = []\n",
    "  yvals = []\n",
    "  theFile = open(txtfile,\"r\")\n",
    "  for line in theFile.readlines():\n",
    "     newvals = [float(a.replace(\" \", \"\")) for a in line.split(\":\")]\n",
    "     if len(newvals) < 7 or any([nn > 999 for nn in newvals]): continue\n",
    "     for key in theVals.keys():\n",
    "        theVals[key].append(newvals[theDict[key]])\n",
    "     xvals.append(newvals[theDict[\"Mass1\"]])\n",
    "     yvals.append(newvals[theDict[\"Mass2\"]])\n",
    "\n",
    "  ## X axis\n",
    "  xvar = Variable(xlabel, is_independent=True, is_binned=False, units=unitsx)\n",
    "  xvar.values = xvals\n",
    "  fig.add_variable(xvar)\n",
    "  yvar = Variable(ylabel, is_independent=True, is_binned=False, units=unitsy)\n",
    "  yvar.values = yvals\n",
    "  fig.add_variable(yvar)  \n",
    "  zvars = []\n",
    "  for key in theDict.keys():\n",
    "       if \"Mass\" in key: continue \n",
    "       zvars.append(Variable(key + zlabel, is_independent=False, is_binned=False, units=unitsz))\n",
    "       zvars[-1].values = theVals[key]\n",
    "\n",
    "       for q in qualifiers:\n",
    "         zvars[-1].add_qualifier(*q)\n",
    "       fig.add_variable(zvars[-1])\n",
    "\n",
    "  #fig.add_image(inPDF)\n",
    "  submission.add_table(fig)\n"
   ]
  },
  {
   "cell_type": "code",
   "execution_count": 114,
   "metadata": {},
   "outputs": [
    {
     "name": "stdout",
     "output_type": "stream",
     "text": [
      "summary_obs_Pure_NPFull_asymp_MLNNSOSparametriczedgeWX_WZ\n"
     ]
    }
   ],
   "source": [
    "get2DScanFromText(\"summary_obs_Pure_NPFull_asymp_MLNNSOSparametriczedgeWX_WZ\",\n",
    " pdf = None,\n",
    " location = \"Figure 11 (top left)\",\n",
    " title = \"Upper limits at the 95 \\% CL for the TChiWZ model, normalized to expected cross section\",\n",
    " xlabel = \"$m_{\\\\tilde{\\chi}_2^{0}} = m_{\\\\tilde{\\chi}_1^{\\pm}} $\",\n",
    " ylabel = \"$m_{\\\\tilde{\\chi}_1^{0}}$\",\n",
    " zlabel = \" Upper limit\",\n",
    " unitsx = \"GeV\",\n",
    " unitsy = \"GeV\",\n",
    " unitsz = \"fb\",\n",
    " obs    = [\"UL\"],\n",
    " ttitle = \"TChiWZ\")"
   ]
  },
  {
   "cell_type": "code",
   "execution_count": 115,
   "metadata": {},
   "outputs": [
    {
     "name": "stdout",
     "output_type": "stream",
     "text": [
      "summary_obs_Pure_NPFull_asymp_MLWHWX_WH\n"
     ]
    }
   ],
   "source": [
    "get2DScanFromText(\"summary_obs_Pure_NPFull_asymp_MLWHWX_WH\",\n",
    " pdf = None,\n",
    " location = \"Figure 11 (bottom left)\",\n",
    " title = \"Upper limits at the 95 \\% CL for the TChiWZ model, normalized to expected cross section\",\n",
    " xlabel = \"$m_{\\\\tilde{\\chi}_2^{0}} = m_{\\\\tilde{\\chi}_1^{\\pm}} $\",\n",
    " ylabel = \"$m_{\\\\tilde{\\chi}_1^{0}}$\",\n",
    " zlabel = \" Upper limit\",\n",
    " unitsx = \"GeV\",\n",
    " unitsy = \"GeV\",\n",
    " unitsz = \"fb\",\n",
    " obs    = [\"UL\"],\n",
    " ttitle = \"TChiWH\")"
   ]
  },
  {
   "cell_type": "code",
   "execution_count": 116,
   "metadata": {},
   "outputs": [
    {
     "name": "stdout",
     "output_type": "stream",
     "text": [
      "summary_obs_Mixed_NPFull_asymp_MLSOSparametriczedgeWXWH_WHWZ0p50\n"
     ]
    }
   ],
   "source": [
    "get2DScanFromText(\"summary_obs_Mixed_NPFull_asymp_MLSOSparametriczedgeWXWH_WHWZ0p50\",\n",
    " pdf = None,\n",
    " location = \"Figure 11 (bottom right)\",\n",
    " title = \"Upper limits at the 95 \\% CL for the TChiWZ model, normalized to expected cross section\",\n",
    " xlabel = \"$m_{\\\\tilde{\\chi}_2^{0}} = m_{\\\\tilde{\\chi}_1^{\\pm}} $\",\n",
    " ylabel = \"$m_{\\\\tilde{\\chi}_1^{0}}$\",\n",
    " zlabel = \" Upper limit\",\n",
    " unitsx = \"GeV\",\n",
    " unitsy = \"GeV\",\n",
    " unitsz = \"fb\",\n",
    " obs    = [\"UL\"],\n",
    " ttitle = \"TChiWZ+TChiWH\")"
   ]
  },
  {
   "cell_type": "code",
   "execution_count": 117,
   "metadata": {},
   "outputs": [
    {
     "name": "stdout",
     "output_type": "stream",
     "text": [
      "summary_obs_Pure_NPFull_asymp_MLNN_WZ\n"
     ]
    }
   ],
   "source": [
    "get2DScanFromText(\"summary_obs_Pure_NPFull_asymp_MLNN_WZ\",\n",
    " pdf = None,\n",
    " location = \"Figure 12 (top)\",\n",
    " title = \"Upper limits at the 95 \\% CL for the TChiWZ model, normalized to expected cross section\",\n",
    " xlabel = \"$m_{\\\\tilde{\\chi}_2^{0}} = m_{\\\\tilde{\\chi}_1^{\\pm}} $\",\n",
    " ylabel = \"$m_{\\\\tilde{\\chi}_1^{0}}$\",\n",
    " zlabel = \" Upper limit\",\n",
    " unitsx = \"GeV\",\n",
    " unitsy = \"GeV\",\n",
    " unitsz = \"fb\",\n",
    " obs    = [\"UL\"],\n",
    " ttitle = \"MLNN_WZ\")"
   ]
  },
  {
   "cell_type": "code",
   "execution_count": 118,
   "metadata": {},
   "outputs": [
    {
     "name": "stdout",
     "output_type": "stream",
     "text": [
      "summary_obs_Pure_NPFull_asymp_SOSparametric_WZ\n"
     ]
    }
   ],
   "source": [
    "get2DScanFromText(\"summary_obs_Pure_NPFull_asymp_SOSparametric_WZ\",\n",
    " pdf = None,\n",
    " location = \"Figure 12 (top)\",\n",
    " title = \"Upper limits at the 95 \\% CL for the TChiWZ model, normalized to expected cross section\",\n",
    " xlabel = \"$m_{\\\\tilde{\\chi}_2^{0}} = m_{\\\\tilde{\\chi}_1^{\\pm}} $\",\n",
    " ylabel = \"$m_{\\\\tilde{\\chi}_1^{0}}$\",\n",
    " zlabel = \" Upper limit\",\n",
    " unitsx = \"GeV\",\n",
    " unitsy = \"GeV\",\n",
    " unitsz = \"fb\",\n",
    " obs    = [\"UL\"],\n",
    " ttitle = \"SOSparametric_WZ\")"
   ]
  },
  {
   "cell_type": "code",
   "execution_count": 119,
   "metadata": {},
   "outputs": [
    {
     "name": "stdout",
     "output_type": "stream",
     "text": [
      "summary_obs_Pure_NPFull_asymp_zedge_WZ\n"
     ]
    }
   ],
   "source": [
    "get2DScanFromText(\"summary_obs_Pure_NPFull_asymp_zedge_WZ\",\n",
    " pdf = None,\n",
    " location = \"Figure 12 (top)\",\n",
    " title = \"Upper limits at the 95 \\% CL for the TChiWZ model, normalized to expected cross section\",\n",
    " xlabel = \"$m_{\\\\tilde{\\chi}_2^{0}} = m_{\\\\tilde{\\chi}_1^{\\pm}} $\",\n",
    " ylabel = \"$m_{\\\\tilde{\\chi}_1^{0}}$\",\n",
    " zlabel = \" Upper limit\",\n",
    " unitsx = \"GeV\",\n",
    " unitsy = \"GeV\",\n",
    " unitsz = \"fb\",\n",
    " obs    = [\"UL\"],\n",
    " ttitle = \"zedge_WZ\")"
   ]
  },
  {
   "cell_type": "code",
   "execution_count": 120,
   "metadata": {},
   "outputs": [
    {
     "name": "stdout",
     "output_type": "stream",
     "text": [
      "summary_obs_Pure_NPFull_asymp_WX_WZ\n"
     ]
    }
   ],
   "source": [
    "get2DScanFromText(\"summary_obs_Pure_NPFull_asymp_WX_WZ\",\n",
    " pdf = None,\n",
    " location = \"Figure 12 (top)\",\n",
    " title = \"Upper limits at the 95 \\% CL for the TChiWZ model, normalized to expected cross section\",\n",
    " xlabel = \"$m_{\\\\tilde{\\chi}_2^{0}} = m_{\\\\tilde{\\chi}_1^{\\pm}} $\",\n",
    " ylabel = \"$m_{\\\\tilde{\\chi}_1^{0}}$\",\n",
    " zlabel = \" Upper limit\",\n",
    " unitsx = \"GeV\",\n",
    " unitsy = \"GeV\",\n",
    " unitsz = \"fb\",\n",
    " obs    = [\"UL\"],\n",
    " ttitle = \"hadr.WX\")"
   ]
  },
  {
   "cell_type": "code",
   "execution_count": 121,
   "metadata": {},
   "outputs": [
    {
     "name": "stdout",
     "output_type": "stream",
     "text": [
      "summary_obs_Pure_NPFull_asymp_ML_WH\n"
     ]
    }
   ],
   "source": [
    "get2DScanFromText(\"summary_obs_Pure_NPFull_asymp_ML_WH\",\n",
    " pdf = None,\n",
    " location = \"Figure 12 (bottom)\",\n",
    " title = \"Upper limits at the 95 \\% CL for the TChiWZ model, normalized to expected cross section\",\n",
    " xlabel = \"$m_{\\\\tilde{\\chi}_2^{0}} = m_{\\\\tilde{\\chi}_1^{\\pm}} $\",\n",
    " ylabel = \"$m_{\\\\tilde{\\chi}_1^{0}}$\",\n",
    " zlabel = \" Upper limit\",\n",
    " unitsx = \"GeV\",\n",
    " unitsy = \"GeV\",\n",
    " unitsz = \"fb\",\n",
    " obs    = [\"UL\"],\n",
    " ttitle = \"ML_WH\")"
   ]
  },
  {
   "cell_type": "code",
   "execution_count": 122,
   "metadata": {},
   "outputs": [
    {
     "name": "stdout",
     "output_type": "stream",
     "text": [
      "summary_obs_Pure_NPFull_asymp_WH_WH\n"
     ]
    }
   ],
   "source": [
    "get2DScanFromText(\"summary_obs_Pure_NPFull_asymp_WH_WH\",\n",
    " pdf = None,\n",
    " location = \"Figure 12 (bottom)\",\n",
    " title = \"Upper limits at the 95 \\% CL for the TChiWZ model, normalized to expected cross section\",\n",
    " xlabel = \"$m_{\\\\tilde{\\chi}_2^{0}} = m_{\\\\tilde{\\chi}_1^{\\pm}} $\",\n",
    " ylabel = \"$m_{\\\\tilde{\\chi}_1^{0}}$\",\n",
    " zlabel = \" Upper limit\",\n",
    " unitsx = \"GeV\",\n",
    " unitsy = \"GeV\",\n",
    " unitsz = \"fb\",\n",
    " obs    = [\"UL\"],\n",
    " ttitle = \"WH_WH\")"
   ]
  },
  {
   "cell_type": "code",
   "execution_count": 123,
   "metadata": {},
   "outputs": [
    {
     "name": "stdout",
     "output_type": "stream",
     "text": [
      "summary_obs_Pure_NPFull_asymp_WX_WH\n"
     ]
    }
   ],
   "source": [
    "get2DScanFromText(\"summary_obs_Pure_NPFull_asymp_WX_WH\",\n",
    " pdf = None,\n",
    " location = \"Figure 12 (bottom)\",\n",
    " title = \"Upper limits at the 95 \\% CL for the TChiWZ model, normalized to expected cross section\",\n",
    " xlabel = \"$m_{\\\\tilde{\\chi}_2^{0}} = m_{\\\\tilde{\\chi}_1^{\\pm}} $\",\n",
    " ylabel = \"$m_{\\\\tilde{\\chi}_1^{0}}$\",\n",
    " zlabel = \" Upper limit\",\n",
    " unitsx = \"GeV\",\n",
    " unitsy = \"GeV\",\n",
    " unitsz = \"fb\",\n",
    " obs    = [\"UL\"],\n",
    " ttitle = \"Hadr_WH\")"
   ]
  },
  {
   "cell_type": "code",
   "execution_count": 124,
   "metadata": {},
   "outputs": [
    {
     "name": "stdout",
     "output_type": "stream",
     "text": [
      "summary_obs_Mixed_NPFull_asymp_MLzedge4b_HHHZZZ1p00\n"
     ]
    }
   ],
   "source": [
    "get2DScanFromText(\"summary_obs_Mixed_NPFull_asymp_MLzedge4b_HHHZZZ1p00\",\n",
    " pdf = None,\n",
    " location = \"Figure 13 (top left)\",\n",
    " title = \"Upper limits at the 95 \\% CL for the TChiWZ model, normalized to expected cross section\",\n",
    " xlabel = \"$m_{\\\\tilde{\\chi}_2^{0}} = m_{\\\\tilde{\\chi}_1^{\\pm}} $\",\n",
    " ylabel = \"$m_{\\\\tilde{\\chi}_1^{0}}$\",\n",
    " zlabel = \" Upper limit\",\n",
    " unitsx = \"GeV\",\n",
    " unitsy = \"GeV\",\n",
    " unitsz = \"fb\",\n",
    " obs    = [\"UL\"],\n",
    " ttitle = \"ZZ\")"
   ]
  },
  {
   "cell_type": "code",
   "execution_count": 125,
   "metadata": {},
   "outputs": [
    {
     "name": "stdout",
     "output_type": "stream",
     "text": [
      "summary_obs_Mixed_NPFull_asymp_MLzedge4b_HHHZZZ0p00\n"
     ]
    }
   ],
   "source": [
    "get2DScanFromText(\"summary_obs_Mixed_NPFull_asymp_MLzedge4b_HHHZZZ0p00\",\n",
    " pdf = None,\n",
    " location = \"Figure 13 (top right)\",\n",
    " title = \"Upper limits at the 95 \\% CL for the TChiWZ model, normalized to expected cross section\",\n",
    " xlabel = \"$m_{\\\\tilde{\\chi}_2^{0}} = m_{\\\\tilde{\\chi}_1^{\\pm}} $\",\n",
    " ylabel = \"$m_{\\\\tilde{\\chi}_1^{0}}$\",\n",
    " zlabel = \" Upper limit\",\n",
    " unitsx = \"GeV\",\n",
    " unitsy = \"GeV\",\n",
    " unitsz = \"fb\",\n",
    " obs    = [\"UL\"],\n",
    " ttitle = \"HH\")"
   ]
  },
  {
   "cell_type": "code",
   "execution_count": 126,
   "metadata": {},
   "outputs": [
    {
     "name": "stdout",
     "output_type": "stream",
     "text": [
      "summary_obs_Mixed_NPFull_asymp_MLzedge4b_HHHZZZ0p50\n"
     ]
    }
   ],
   "source": [
    "get2DScanFromText(\"summary_obs_Mixed_NPFull_asymp_MLzedge4b_HHHZZZ0p50\",\n",
    " pdf = None,\n",
    " location = \"Figure 13 (bottom)\",\n",
    " title = \"Upper limits at the 95 \\% CL for the TChiWZ model, normalized to expected cross section\",\n",
    " xlabel = \"$m_{\\\\tilde{\\chi}_2^{0}} = m_{\\\\tilde{\\chi}_1^{\\pm}} $\",\n",
    " ylabel = \"$m_{\\\\tilde{\\chi}_1^{0}}$\",\n",
    " zlabel = \" Upper limit\",\n",
    " unitsx = \"GeV\",\n",
    " unitsy = \"GeV\",\n",
    " unitsz = \"fb\",\n",
    " obs    = [\"UL\"],\n",
    " ttitle = \"ZH\")"
   ]
  },
  {
   "cell_type": "code",
   "execution_count": 127,
   "metadata": {},
   "outputs": [
    {
     "name": "stdout",
     "output_type": "stream",
     "text": [
      "summary_byBR\n"
     ]
    }
   ],
   "source": [
    "get2DScanFromText(\"summary_byBR\",\n",
    " pdf = None,\n",
    " location = \"Figure 14\",\n",
    " title = \"Upper limits at the 95 \\% CL for the TChiWZ model, normalized to expected cross section\",\n",
    " xlabel = \"$m_{\\\\tilde{\\chi}_2^{0}} = m_{\\\\tilde{\\chi}_1^{\\pm}} $\",\n",
    " ylabel = \"$m_{\\\\tilde{\\chi}_1^{0}}$\",\n",
    " zlabel = \" Upper limit\",\n",
    " unitsx = \"GeV\",\n",
    " unitsy = \"GeV\",\n",
    " unitsz = \"fb\",\n",
    " obs    = [\"UL\"],\n",
    " ttitle = \"BR Combined limit\")"
   ]
  },
  {
   "cell_type": "code",
   "execution_count": 128,
   "metadata": {},
   "outputs": [
    {
     "name": "stdout",
     "output_type": "stream",
     "text": [
      "summary_byBR_ML\n"
     ]
    }
   ],
   "source": [
    "get2DScanFromText(\"summary_byBR_ML\",\n",
    " pdf = None,\n",
    " location = \"Figure 14\",\n",
    " title = \"Upper limits at the 95 \\% CL for the TChiWZ model, normalized to expected cross section\",\n",
    " xlabel = \"$m_{\\\\tilde{\\chi}_2^{0}} = m_{\\\\tilde{\\chi}_1^{\\pm}} $\",\n",
    " ylabel = \"$m_{\\\\tilde{\\chi}_1^{0}}$\",\n",
    " zlabel = \" Upper limit\",\n",
    " unitsx = \"GeV\",\n",
    " unitsy = \"GeV\",\n",
    " unitsz = \"fb\",\n",
    " obs    = [\"UL\"],\n",
    " ttitle = \"ML Limit\")"
   ]
  },
  {
   "cell_type": "code",
   "execution_count": 129,
   "metadata": {},
   "outputs": [
    {
     "name": "stdout",
     "output_type": "stream",
     "text": [
      "summary_byBR_zedge\n"
     ]
    }
   ],
   "source": [
    "get2DScanFromText(\"summary_byBR_zedge\",\n",
    " pdf = None,\n",
    " location = \"Figure 14\",\n",
    " title = \"Upper limits at the 95 \\% CL for the TChiWZ model, normalized to expected cross section\",\n",
    " xlabel = \"$m_{\\\\tilde{\\chi}_2^{0}} = m_{\\\\tilde{\\chi}_1^{\\pm}} $\",\n",
    " ylabel = \"$m_{\\\\tilde{\\chi}_1^{0}}$\",\n",
    " zlabel = \" Upper limit\",\n",
    " unitsx = \"GeV\",\n",
    " unitsy = \"GeV\",\n",
    " unitsz = \"fb\",\n",
    " obs    = [\"UL\"],\n",
    " ttitle = \"Zedge Limit\")"
   ]
  },
  {
   "cell_type": "code",
   "execution_count": 130,
   "metadata": {},
   "outputs": [
    {
     "name": "stdout",
     "output_type": "stream",
     "text": [
      "summary_byBR_4b\n"
     ]
    }
   ],
   "source": [
    "get2DScanFromText(\"summary_byBR_4b\",\n",
    " pdf = None,\n",
    " location = \"Figure 14\",\n",
    " title = \"Upper limits at the 95 \\% CL for the TChiWZ model, normalized to expected cross section\",\n",
    " xlabel = \"$m_{\\\\tilde{\\chi}_2^{0}} = m_{\\\\tilde{\\chi}_1^{\\pm}} $\",\n",
    " ylabel = \"$m_{\\\\tilde{\\chi}_1^{0}}$\",\n",
    " zlabel = \" Upper limit\",\n",
    " unitsx = \"GeV\",\n",
    " unitsy = \"GeV\",\n",
    " unitsz = \"fb\",\n",
    " obs    = [\"UL\"],\n",
    " ttitle = \"4b Limit\")"
   ]
  },
  {
   "cell_type": "code",
   "execution_count": 131,
   "metadata": {},
   "outputs": [
    {
     "name": "stdout",
     "output_type": "stream",
     "text": [
      "summary_obs_Pure_NPFull_asymp_WX4bMLWH_WWWHHHhino\n"
     ]
    }
   ],
   "source": [
    "get2DScanFromText(\"summary_obs_Pure_NPFull_asymp_WX4bMLWH_WWWHHHhino\",\n",
    " pdf = None,\n",
    " location = \"Figure 15\",\n",
    " title = \"Upper limits at the 95 \\% CL for the TChiWZ model, normalized to expected cross section\",\n",
    " xlabel = \"$m_{\\\\tilde{\\chi}_2^{0}} = m_{\\\\tilde{\\chi}_1^{\\pm}} $\",\n",
    " ylabel = \"$m_{\\\\tilde{\\chi}_1^{0}}$\",\n",
    " zlabel = \" Upper limit\",\n",
    " unitsx = \"GeV\",\n",
    " unitsy = \"GeV\",\n",
    " unitsz = \"fb\",\n",
    " obs    = [\"UL\"],\n",
    " ttitle = \"Higgsino combined limit\")"
   ]
  },
  {
   "cell_type": "code",
   "execution_count": 132,
   "metadata": {},
   "outputs": [
    {
     "name": "stdout",
     "output_type": "stream",
     "text": [
      "summary_obs_Pure_NPFull_asymp_SOSparametric_slep\n"
     ]
    }
   ],
   "source": [
    "get2DScanFromText(\"summary_obs_Pure_NPFull_asymp_SOSparametric_slep\",\n",
    " pdf = None,\n",
    " location = \"Figure 16 (left)\",\n",
    " title = \"Upper limits at the 95 \\% CL for the TChiWZ model, normalized to expected cross section\",\n",
    " xlabel = \"$m_{\\\\tilde{\\chi}_2^{0}} = m_{\\\\tilde{\\chi}_1^{\\pm}} $\",\n",
    " ylabel = \"$m_{\\\\tilde{\\chi}_1^{0}}$\",\n",
    " zlabel = \" Upper limit\",\n",
    " unitsx = \"GeV\",\n",
    " unitsy = \"GeV\",\n",
    " unitsz = \"fb\",\n",
    " obs    = [\"UL\"],\n",
    " ttitle = \"SOS Combined limit\")"
   ]
  },
  {
   "cell_type": "code",
   "execution_count": 133,
   "metadata": {},
   "outputs": [
    {
     "name": "stdout",
     "output_type": "stream",
     "text": [
      "summary_obs_Pure_NPFull_asymp_SOSparametriczedge_slep\n"
     ]
    }
   ],
   "source": [
    "get2DScanFromText(\"summary_obs_Pure_NPFull_asymp_SOSparametriczedge_slep\",\n",
    " pdf = None,\n",
    " location = \"Figure 16 (right)\",\n",
    " title = \"Upper limits at the 95 \\% CL for the TChiWZ model, normalized to expected cross section\",\n",
    " xlabel = \"$m_{\\\\tilde{\\chi}_2^{0}} = m_{\\\\tilde{\\chi}_1^{\\pm}} $\",\n",
    " ylabel = \"$m_{\\\\tilde{\\chi}_1^{0}}$\",\n",
    " zlabel = \" Upper limit\",\n",
    " unitsx = \"GeV\",\n",
    " unitsy = \"GeV\",\n",
    " unitsz = \"fb\",\n",
    " obs    = [\"UL\"],\n",
    " ttitle = \"Compressed SOS limit\")"
   ]
  },
  {
   "cell_type": "code",
   "execution_count": 134,
   "metadata": {},
   "outputs": [],
   "source": [
    "submission.create_files(\"Test\",remove_old=True)"
   ]
  }
 ],
 "metadata": {
  "kernelspec": {
   "display_name": "Python 3",
   "language": "python",
   "name": "python3"
  },
  "language_info": {
   "codemirror_mode": {
    "name": "ipython",
    "version": 3
   },
   "file_extension": ".py",
   "mimetype": "text/x-python",
   "name": "python",
   "nbconvert_exporter": "python",
   "pygments_lexer": "ipython3",
   "version": "3.9.0"
  }
 },
 "nbformat": 4,
 "nbformat_minor": 2
}
