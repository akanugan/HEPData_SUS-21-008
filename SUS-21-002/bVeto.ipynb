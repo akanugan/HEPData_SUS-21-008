{
 "cells": [
  {
   "cell_type": "markdown",
   "metadata": {},
   "source": [
    "# Reading histograms\n",
    "\n",
    "One of the most common tasks will be translating [ROOT](https://root.cern.ch) histograms into the HEPData format. `hepdata_lib` will help you with that, and this notebook will demonstrate how to do that.\n",
    "\n",
    "As explained in the [Getting started notebook](Getting_started.ipynb), a `Submission` needs to exist or be created. Here, we'll just create one without any additional information:"
   ]
  },
  {
   "cell_type": "code",
   "execution_count": 21,
   "metadata": {},
   "outputs": [],
   "source": [
    "from hepdata_lib import Submission\n",
    "submission = Submission()"
   ]
  },
  {
   "cell_type": "markdown",
   "metadata": {},
   "source": [
    "The plot will be a `Table`, in this example Figure 4a from page 12 (upper left) of the [publication](https://cms-results.web.cern.ch/cms-results/public-results/publications/B2G-17-009/index.html), which shows the distribution of the reconstructed B quark mass for the data as well as the individual simulated processes. Let's add all this, some more details as well as the actual plot (for thumbnail creation) to the `Table`:"
   ]
  },
  {
   "cell_type": "code",
   "execution_count": 22,
   "metadata": {},
   "outputs": [],
   "source": [
    "# Submission text\n",
    "submission.read_abstract(\"abstract.txt\")\n",
    "submission.add_link(\"Webpage with all figures and tables\", \"https://cms-results.web.cern.ch/cms-results/public-results/publications/SUS-21-002/\")\n",
    "#submission.add_link(\"arXiv\", \"Fill later\")\n",
    "#submission.add_record_id(1111, \"inspire\")"
   ]
  },
  {
   "cell_type": "code",
   "execution_count": 23,
   "metadata": {},
   "outputs": [],
   "source": [
    "from hepdata_lib import Table\n",
    "# table = Table(\"Figure 4a\")\n",
    "# table.description = \"Distribution in the reconstructed B quark mass, after applying all selections to events with no forward jet, compared to the background distributions estimated before fitting. The plot refers to the low-mass mB analysis. The expectations for signal MC events are given by the blue histogram lines. Different contributions to background are indicated by the colour-filled histograms. The grey-hatched error band shows total uncertainties in the background expectation. The ratio of observations to background expectations is given in the lower panel, together with the total uncertainties prior to fitting, indicated by the grey-hatched band.\"\n",
    "# table.location = \"Data from Figure 4 (upper left), located on page 12.\"\n",
    "# table.keywords[\"observables\"] = [\"N\"]\n",
    "# table.add_image(\"example_inputs/CMS-B2G-17-009_Figure_004-a.pdf\")\n",
    "\n",
    "table = Table(\"Figure 3a\")\n",
    "table.description = \"bVeto MET distibution ..... to be filled\"\n",
    "table.location = \"Data from Figure 3 (upper left), located on page 13.\"\n",
    "table.keywords[\"observables\"] = [\"N\"]\n",
    "table.add_image(\"CMS-SUS-21-002_Figure_003-a.pdf\")"
   ]
  },
  {
   "cell_type": "markdown",
   "metadata": {},
   "source": [
    "The individual plot components are stored in different ROOT files, one for the individual background processes (one histogram per process plus the total), another one for the data, and the third for the signal process. All histograms here are of type [TH1](https://root.cern.ch/doc/master/classTH1.html), but you can also read in 2-dimensional [TH2](https://root.cern.ch/doc/master/classTH2.html) using `read_hist_2d(...)` instead of `read_hist_1d(...)`:"
   ]
  },
  {
   "cell_type": "code",
   "execution_count": 24,
   "metadata": {},
   "outputs": [],
   "source": [
    "from hepdata_lib import RootFileReader\n",
    "\n",
    "# reader = RootFileReader(\"example_inputs/mlfit_lm_1000.root\")\n",
    "# reader_data = RootFileReader(\"example_inputs/Data_cat0_singleH.root\")\n",
    "# reader_signal = RootFileReader(\"example_inputs/BprimeBToHB1000_cat0_singleH.root\")\n",
    "\n",
    "# TotalBackground = reader.read_hist_1d(\"shapes_prefit/cat0_singleH/total_background\")\n",
    "# TT = reader.read_hist_1d(\"shapes_prefit/cat0_singleH/TT\")\n",
    "# QCD = reader.read_hist_1d(\"shapes_prefit/cat0_singleH/QCDTT\")\n",
    "# WJets = reader.read_hist_1d(\"shapes_prefit/cat0_singleH/WJets\")\n",
    "# ZJets = reader.read_hist_1d(\"shapes_prefit/cat0_singleH/ZJets\")\n",
    "\n",
    "# Data = reader_data.read_hist_1d(\"h_bprimemass_SRlm\")\n",
    "\n",
    "# signal = reader_signal.read_hist_1d(\"h_bprimemass_SRlm\")\n",
    "\n",
    "reader = RootFileReader(\"combined_PostFitPredictions_Run2_Mask.root\")\n",
    "reader_signalWZ = RootFileReader(\"TChiWZ_600_1_MCRun2.root\")\n",
    "reader_signalWW = RootFileReader(\"TChiWW_500_1_MCRun2.root\")\n",
    "\n",
    "TotalBackground = reader.read_hist_1d(\"TotalBG\")\n",
    "ZEROONERES = reader.read_hist_1d(\"zeroOneres\")\n",
    "TWORES = reader.read_hist_1d(\"Twores\")\n",
    "\n",
    "Data = reader.read_hist_1d(\"DataFit\")\n",
    "\n",
    "signalWZ = reader_signalWZ.read_hist_1d(\"METvBin\")\n",
    "signalWW = reader_signalWW.read_hist_1d(\"METvBin\")"
   ]
  },
  {
   "cell_type": "markdown",
   "metadata": {},
   "source": [
    "The content of the histograms is stored as a dictionary, with keys `x` (bin center), `y` (bin value or for `TH2` the bin center of the 2nd dimension), `z` (`TH2` only: bin value), as well as the bin errors `dy` (`dz` for `TH2`). Furthermore, the lower and upper bin edges (`x_edges`, for `TH2` also `y_edges`) are stored for each bin:"
   ]
  },
  {
   "cell_type": "code",
   "execution_count": 25,
   "metadata": {},
   "outputs": [
    {
     "data": {
      "text/plain": [
       "dict_keys(['x', 'y', 'x_edges', 'x_labels', 'dy'])"
      ]
     },
     "execution_count": 25,
     "metadata": {},
     "output_type": "execute_result"
    }
   ],
   "source": [
    "TotalBackground.keys()"
   ]
  },
  {
   "cell_type": "markdown",
   "metadata": {},
   "source": [
    "The `RootFileReader` automatically recognises if the histogram has symmetric or assymmetric errors based on [TH1::GetBinErrorOption()](https://root.cern.ch/doc/master/classTH1.html#ac6e38c12259ab72c0d574614ee5a61c7). Symmetric errors are returned if this returns `TH1::kNormal`, in this case (as for the example here) the errors are a plain `float` per bin, otherwise a `tuple` of `float`. The bin edges are always stored as `tuple`:"
   ]
  },
  {
   "cell_type": "code",
   "execution_count": 26,
   "metadata": {},
   "outputs": [
    {
     "name": "stdout",
     "output_type": "stream",
     "text": [
      "x <class 'list'> <class 'float'>\n",
      "y <class 'list'> <class 'float'>\n",
      "x_edges <class 'list'> <class 'tuple'>\n",
      "x_labels <class 'list'> <class 'str'>\n",
      "dy <class 'list'> <class 'float'>\n"
     ]
    }
   ],
   "source": [
    "from __future__ import print_function\n",
    "for key in TotalBackground.keys():\n",
    "    print(key, type(TotalBackground[key]), type(TotalBackground[key][0]))"
   ]
  },
  {
   "cell_type": "markdown",
   "metadata": {},
   "source": [
    "Now define the variables:"
   ]
  },
  {
   "cell_type": "code",
   "execution_count": 27,
   "metadata": {},
   "outputs": [],
   "source": [
    "from hepdata_lib import Variable, Uncertainty\n",
    "\n",
    "#-----------\n",
    "\n",
    "# x-axis: MET\n",
    "#print(Data[\"x_edges\"])\n",
    "xBins = Variable(\"$p_{miss}^{T}$\", is_independent=True, is_binned=True, units=\"GeV\")\n",
    "# temp = []\n",
    "# for i in range(0,len(Data[\"x\"])-1):\n",
    "#     temp.append((Data[\"x\"][i],Data[\"x\"][i+1]))\n",
    "# xBins.values = temp\n",
    "xBins.values = Data[\"x_edges\"]\n",
    "\n",
    "sigWZ = Variable(\"Number of WZ signal events\", is_independent=False, is_binned=False, units=\"\")\n",
    "sigWZ.values = signalWZ[\"y\"]\n",
    "\n",
    "# y-axis: N events\n",
    "sigWW = Variable(\"Number of WW signal events\", is_independent=False, is_binned=False, units=\"\")\n",
    "sigWW.values = signalWW[\"y\"]\n",
    "\n",
    "totalbackground = Variable(\"Number of background events\", is_independent=False, is_binned=False, units=\"\")\n",
    "totalbackground.values = TotalBackground[\"y\"]\n",
    "\n",
    "zeroOneRes = Variable(\"Number of 0,1 res BG events\", is_independent=False, is_binned=False, units=\"\")\n",
    "zeroOneRes.values = ZEROONERES[\"y\"]\n",
    "\n",
    "twoRes = Variable(\"Number of 2 res BG events\", is_independent=False, is_binned=False, units=\"\")\n",
    "twoRes.values = TWORES[\"y\"]\n",
    "\n",
    "data = Variable(\"Number of data events\", is_independent=False, is_binned=False, units=\"\")\n",
    "data.values = Data[\"y\"]"
   ]
  },
  {
   "cell_type": "markdown",
   "metadata": {},
   "source": [
    "For the data as well as the background total, we will also provide the associated uncertainties:"
   ]
  },
  {
   "cell_type": "code",
   "execution_count": 28,
   "metadata": {},
   "outputs": [],
   "source": [
    "from hepdata_lib import Uncertainty\n",
    "\n",
    "unc_totalbackground = Uncertainty(\"Total uncertainty\", is_symmetric=True)\n",
    "unc_totalbackground.values = TotalBackground[\"dy\"]\n",
    "\n",
    "unc_data = Uncertainty(\"Data uncertainty\", is_symmetric=True)\n",
    "unc_data.values = Data[\"dy\"]\n",
    "\n",
    "totalbackground.add_uncertainty(unc_totalbackground)\n",
    "data.add_uncertainty(unc_data)"
   ]
  },
  {
   "cell_type": "markdown",
   "metadata": {},
   "source": [
    "Now we can add the variables to the `Table` and the `Table` to the `Submission`, and create the files. Please refer to the [Getting started notebook](Getting_started.ipynb) for a complete example."
   ]
  },
  {
   "cell_type": "code",
   "execution_count": 29,
   "metadata": {},
   "outputs": [],
   "source": [
    "#table.add_variable(mmed)\n",
    "table.add_variable(xBins)\n",
    "table.add_variable(zeroOneRes)\n",
    "table.add_variable(twoRes)\n",
    "table.add_variable(totalbackground)\n",
    "table.add_variable(sigWZ)\n",
    "table.add_variable(sigWW)\n",
    "table.add_variable(data)\n",
    "\n",
    "submission.add_table(table)\n",
    "\n",
    "#submission.create_files(\"submission\",remove_old=True)"
   ]
  },
  {
   "cell_type": "code",
   "execution_count": 30,
   "metadata": {},
   "outputs": [
    {
     "name": "stdout",
     "output_type": "stream",
     "text": [
      "head: cannot open 'submission/figure_3a.yaml' for reading: No such file or directory\r\n"
     ]
    }
   ],
   "source": [
    "!head submission/figure_3a.yaml"
   ]
  },
  {
   "cell_type": "code",
   "execution_count": 31,
   "metadata": {},
   "outputs": [],
   "source": [
    "def write_obs_contours(inputfile, tablename, desc, loc, kw, addImage):\n",
    "    table = Table(tablename)\n",
    "    table.description = desc\n",
    "    table.location = loc\n",
    "    table.keywords[\"observables\"] = kw\n",
    "    table.add_image(addImage)\n",
    "    reader = RootFileReader(inputfile)\n",
    "    if \"TChiWH\" in inputfile:\n",
    "        OBSWW = reader.read_graph(\"graph_smoothed_Obs_1\")\n",
    "        OBSPWW = reader.read_graph(\"graph_smoothed_ObsP_1\")\n",
    "        OBSMWW = reader.read_graph(\"graph_smoothed_ObsM_1\")\n",
    "    else:\n",
    "        OBSWW = reader.read_graph(\"graph_smoothed_Obs\")\n",
    "        OBSPWW = reader.read_graph(\"graph_smoothed_ObsP\")\n",
    "        OBSMWW = reader.read_graph(\"graph_smoothed_ObsM\")\n",
    "    \n",
    "    # x-axis: Mass of NLSP\n",
    "    mnlsp = Variable(\"m_NSLP\", is_independent=True, is_binned=False, units=\"GeV\")\n",
    "    mnlsp.values = OBSWW[\"x\"] + OBSPWW[\"x\"] + OBSMWW[\"x\"]\n",
    "    \n",
    "    #y-axis: obs limit contours\n",
    "    obsWW = Variable(\"Obs. limit\", is_independent=False, is_binned=False, units=\"\")\n",
    "    obsWW.values = OBSWW[\"y\"] + ['~'] * len(OBSPWW[\"x\"] + OBSMWW[\"x\"])\n",
    "\n",
    "    obsPWW = Variable(\"Obs. +1 sigma limit\", is_independent=False, is_binned=False, units=\"\")\n",
    "    obsPWW.values = ['~'] * len(OBSWW[\"x\"]) + OBSPWW[\"y\"] + ['~'] * len(OBSMWW[\"x\"])\n",
    "\n",
    "    obsMWW = Variable(\"Obs. -1 sigma limit\", is_independent=False, is_binned=False, units=\"\")\n",
    "    obsMWW.values = ['~'] * len(OBSWW[\"x\"] + OBSPWW[\"x\"]) + OBSMWW[\"y\"] \n",
    "    \n",
    "    table.add_variable(mnlsp)\n",
    "    table.add_variable(obsWW)\n",
    "    table.add_variable(obsPWW)\n",
    "    table.add_variable(obsMWW)\n",
    "\n",
    "    submission.add_table(table)"
   ]
  },
  {
   "cell_type": "code",
   "execution_count": 32,
   "metadata": {},
   "outputs": [],
   "source": [
    "def write_exp_contours(inputfile, tablename, desc, loc, kw, addImage):\n",
    "    table = Table(tablename)\n",
    "    table.description = desc\n",
    "    table.location = loc\n",
    "    table.keywords[\"observables\"] = kw\n",
    "    table.add_image(addImage)\n",
    "    reader = RootFileReader(inputfile)\n",
    "\n",
    "\n",
    "    EXPWW = reader.read_graph(\"graph_smoothed_Exp\")\n",
    "    EXPPWW = reader.read_graph(\"graph_smoothed_ExpP\")\n",
    "    EXPMWW = reader.read_graph(\"graph_smoothed_ExpM\")\n",
    "    \n",
    "    # x-axis: Mass of NLSP\n",
    "    mnlsp = Variable(\"m_NLSP\", is_independent=True, is_binned=False, units=\"GeV\")\n",
    "    mnlsp.values = EXPWW[\"x\"] + EXPPWW[\"x\"] + EXPMWW[\"x\"]\n",
    "\n",
    "    #y-axis: exp limit contours\n",
    "    expWW = Variable(\"Obs. limit\", is_independent=False, is_binned=False, units=\"\")\n",
    "    expWW.values = EXPWW[\"y\"] + ['~'] * len(EXPPWW[\"x\"] + EXPMWW[\"x\"])\n",
    "\n",
    "    expPWW = Variable(\"Obs. +1 sigma limit\", is_independent=False, is_binned=False, units=\"\")\n",
    "    expPWW.values = ['~'] * len(EXPWW[\"x\"]) + EXPPWW[\"y\"] + ['~'] * len(EXPMWW[\"x\"])\n",
    "\n",
    "    expMWW = Variable(\"Obs. -1 sigma limit\", is_independent=False, is_binned=False, units=\"\")\n",
    "    expMWW.values = ['~'] * len(EXPWW[\"x\"] + EXPPWW[\"x\"]) + EXPMWW[\"y\"] \n",
    "\n",
    "    table.add_variable(mnlsp)\n",
    "    table.add_variable(expWW)\n",
    "    table.add_variable(expPWW)\n",
    "    table.add_variable(expMWW)\n",
    "\n",
    "\n",
    "    submission.add_table(table)"
   ]
  },
  {
   "cell_type": "code",
   "execution_count": 33,
   "metadata": {},
   "outputs": [],
   "source": [
    "def obs_heatmap(inputfile, tablename, desc, loc, kw, addImage):\n",
    "    table = Table(tablename)\n",
    "    table.description = desc\n",
    "    table.location = loc\n",
    "    table.keywords[\"observables\"] = kw\n",
    "    table.add_image(addImage)\n",
    "    reader = RootFileReader(inputfile)\n",
    "\n",
    "    OBSXSEC = reader.read_hist_2d(\"hXsec_obs_corr\")\n",
    "    #print(OBSXSEC[\"x_edges\"])\n",
    "    mnlsp = Variable(\"m_NLSP\", is_independent=True, is_binned=True, units=\"GeV\")\n",
    "    mnlsp.values = OBSXSEC[\"x_edges\"]\n",
    "    \n",
    "    mlsp = Variable(\"m_LSP\", is_independent=True, is_binned=True, units=\"GeV\")\n",
    "    mlsp.values = OBSXSEC[\"y_edges\"]\n",
    "    \n",
    "    obsxsec = Variable(\"XSec\", is_independent=False, is_binned=False, units=\"\")\n",
    "    obsxsec.values = OBSXSEC[\"z\"]\n",
    "    \n",
    "    table.add_variable(mnlsp)\n",
    "    table.add_variable(mlsp)\n",
    "    table.add_variable(obsxsec)\n",
    "    \n",
    "    submission.add_table(table)"
   ]
  },
  {
   "cell_type": "code",
   "execution_count": 34,
   "metadata": {},
   "outputs": [],
   "source": [
    "#TChiWW\n",
    "write_obs_contours(\"afterCWR_TChiWW.root\",\"Figure 4a Observed Lines\",\"TChiWW obs limit plot ..... to be filled\",\\\n",
    "                   \"Data from Figure 4 (upper left), located on page 14.\", [\"Cross-section\"], \"Figure_004-a.pdf\")\n",
    "\n",
    "write_exp_contours(\"afterCWR_TChiWW.root\",\"Figure 4a Expected Lines\",\"TChiWW exp limit plot ..... to be filled\",\\\n",
    "                   \"Data from Figure 4 (upper left), located on page 14.\", [\"Cross-section\"], \"Figure_004-a.pdf\")\n",
    "\n",
    "obs_heatmap(\"afterCWR_TChiWW.root\",\"Figure 4a Observed\",\"TChiWW obs 95% CL on cross section ..... to be filled\",\\\n",
    "                   \"Data from Figure 4 (upper left), located on page 14.\", [\"Cross-section\"], \"Figure_004-a.pdf\")"
   ]
  },
  {
   "cell_type": "code",
   "execution_count": 35,
   "metadata": {},
   "outputs": [],
   "source": [
    "#TChiWZ\n",
    "write_obs_contours(\"afterCWR_TChiWZ.root\",\"Figure 4b Observed Lines\",\"TChiWZ obs limit plot ..... to be filled\",\\\n",
    "                   \"Data from Figure 4 (upper right), located on page 14.\", [\"Cross-section\"], \"Figure_004-b.pdf\")\n",
    "\n",
    "write_exp_contours(\"afterCWR_TChiWZ.root\",\"Figure 4b Expected Lines\",\"TChiWZ exp limit plot ..... to be filled\",\\\n",
    "                   \"Data from Figure 4 (upper  right), located on page 14.\", [\"Cross-section\"], \"Figure_004-b.pdf\")\n",
    "\n",
    "obs_heatmap(\"afterCWR_TChiWZ.root\",\"Figure 4b Observed\",\"TChiWZ obs limit plot ..... to be filled\",\\\n",
    "                   \"Data from Figure 4 (upper right), located on page 14.\", [\"Cross-section\"], \"Figure_004-b.pdf\")"
   ]
  },
  {
   "cell_type": "code",
   "execution_count": 36,
   "metadata": {
    "scrolled": true
   },
   "outputs": [],
   "source": [
    "# #TChiWH\n",
    "write_obs_contours(\"afterCWR_TChiWH.root\",\"Figure 4c Observed Lines\",\"TChiWH obs limit plot ..... to be filled\",\\\n",
    "                   \"Data from Figure 4 (lower), located on page 14.\", [\"Cross-section\"], \"Figure_004-c.pdf\")\n",
    "\n",
    "write_exp_contours(\"afterCWR_TChiWH.root\",\"Figure 4c Expected Lines\",\"TChiWH exp limit plot ..... to be filled\",\\\n",
    "                   \"Data from Figure 4 (lower), located on page 14.\", [\"Cross-section\"], \"Figure_004-c.pdf\")\n",
    "\n",
    "obs_heatmap(\"afterCWR_TChiWH.root\",\"Figure 4c Observed\",\"TChiWH obs limit plot ..... to be filled\",\\\n",
    "                   \"Data from Figure 4 (lower), located on page 14.\", [\"Cross-section\"], \"Figure_004-c.pdf\")"
   ]
  },
  {
   "cell_type": "code",
   "execution_count": 37,
   "metadata": {},
   "outputs": [],
   "source": [
    "# TChiWW + WZ Wino combined Fig 5 left\n",
    "write_obs_contours(\"test_TChiWW_WZ_afterCWR.root\",\"Figure 5a WW WZ Observed Lines\",\"TChiWW + TChiWZ obs limit plot ..... to be filled\",\\\n",
    "                   \"Data from Figure 5 (left), located on page 14.\", [\"Cross-section\"], \"Figure_005-a.pdf\")\n",
    "\n",
    "write_exp_contours(\"test_TChiWW_WZ_afterCWR.root\",\"Figure 5a WW WZ Expected Lines\",\"TChiWW + TChiWZ exp limit plot ..... to be filled\",\\\n",
    "                   \"Data from Figure 5 (left), located on page 14.\", [\"Cross-section\"], \"Figure_005-a.pdf\")\n",
    "\n",
    "obs_heatmap(\"test_TChiWW_WZ_afterCWR.root\",\"Figure 5a WW WZ Observed\",\"TChiWW + TChiWZ obs limit plot ..... to be filled\",\\\n",
    "                   \"Data from Figure 5 (left), located on page 14.\", [\"Cross-section\"], \"Figure_005-a.pdf\")"
   ]
  },
  {
   "cell_type": "code",
   "execution_count": 38,
   "metadata": {},
   "outputs": [],
   "source": [
    "# TChiWW + WH Wino combined Fig 5 left\n",
    "write_obs_contours(\"test_TChiWW_WH_afterCWR.root\",\"Figure 5a WW WH Observed Lines\",\"TChiWW + TChiWH obs limit plot ..... to be filled\",\\\n",
    "                   \"Data from Figure 5 (left), located on page 15.\", [\"Cross-section\"], \"Figure_005-a.pdf\")\n",
    "\n",
    "write_exp_contours(\"test_TChiWW_WH_afterCWR.root\",\"Figure 5a WW WH Expected Lines\",\"TChiWW + TChiWH exp limit plot ..... to be filled\",\\\n",
    "                   \"Data from Figure 5 (left), located on page 15.\", [\"Cross-section\"], \"Figure_005-a.pdf\")\n",
    "\n",
    "obs_heatmap(\"test_TChiWW_WH_afterCWR.root\",\"Figure 5a WW WH Observed\",\"TChiWW + TChiWH obs limit plot ..... to be filled\",\\\n",
    "                   \"Data from Figure 5 (left), located on page 15.\", [\"Cross-section\"], \"Figure_005-a.pdf\")"
   ]
  },
  {
   "cell_type": "code",
   "execution_count": 39,
   "metadata": {},
   "outputs": [],
   "source": [
    "# Hino combined Fig 5 right\n",
    "write_obs_contours(\"test_TChiWW_WZ_WH_HZ_afterCWR.root\",\"Figure 5b Observed Lines\",\"Higgsino obs limit plot ..... to be filled\",\\\n",
    "                   \"Data from Figure 5 (right), located on page 15.\", [\"Cross-section\"], \"Figure_005-b.pdf\")\n",
    "\n",
    "write_exp_contours(\"test_TChiWW_WZ_WH_HZ_afterCWR.root\",\"Figure 5b Expected Lines\",\"Higgsino exp limit plot ..... to be filled\",\\\n",
    "                   \"Data from Figure 5 (right), located on page 15.\", [\"Cross-section\"], \"Figure_005-b.pdf\")\n",
    "\n",
    "obs_heatmap(\"test_TChiWW_WZ_WH_HZ_afterCWR.root\",\"Figure 5b Observed\",\"Higgsino obs limit plot ..... to be filled\",\\\n",
    "                   \"Data from Figure 5 (right), located on page 15.\", [\"Cross-section\"], \"Figure_005-b.pdf\")"
   ]
  },
  {
   "cell_type": "code",
   "execution_count": null,
   "metadata": {},
   "outputs": [],
   "source": []
  },
  {
   "cell_type": "code",
   "execution_count": 40,
   "metadata": {
    "scrolled": true
   },
   "outputs": [
    {
     "name": "stdout",
     "output_type": "stream",
     "text": [
      "Full-size PNG file Test2/Figure_004-a.png is newer than its source file.                        Remove the thumbnail file or use create_files(remove_old=True)                           to force recreation.\n",
      "Thumbnail PNG file Test2/thumb_Figure_004-a.png is newer than its source file.                        Remove the thumbnail file or use create_files(remove_old=True)                           to force recreation.\n",
      "Full-size PNG file Test2/Figure_004-a.png is newer than its source file.                        Remove the thumbnail file or use create_files(remove_old=True)                           to force recreation.\n",
      "Thumbnail PNG file Test2/thumb_Figure_004-a.png is newer than its source file.                        Remove the thumbnail file or use create_files(remove_old=True)                           to force recreation.\n",
      "Full-size PNG file Test2/Figure_004-b.png is newer than its source file.                        Remove the thumbnail file or use create_files(remove_old=True)                           to force recreation.\n",
      "Thumbnail PNG file Test2/thumb_Figure_004-b.png is newer than its source file.                        Remove the thumbnail file or use create_files(remove_old=True)                           to force recreation.\n",
      "Full-size PNG file Test2/Figure_004-b.png is newer than its source file.                        Remove the thumbnail file or use create_files(remove_old=True)                           to force recreation.\n",
      "Thumbnail PNG file Test2/thumb_Figure_004-b.png is newer than its source file.                        Remove the thumbnail file or use create_files(remove_old=True)                           to force recreation.\n",
      "Full-size PNG file Test2/Figure_004-c.png is newer than its source file.                        Remove the thumbnail file or use create_files(remove_old=True)                           to force recreation.\n",
      "Thumbnail PNG file Test2/thumb_Figure_004-c.png is newer than its source file.                        Remove the thumbnail file or use create_files(remove_old=True)                           to force recreation.\n",
      "Full-size PNG file Test2/Figure_004-c.png is newer than its source file.                        Remove the thumbnail file or use create_files(remove_old=True)                           to force recreation.\n",
      "Thumbnail PNG file Test2/thumb_Figure_004-c.png is newer than its source file.                        Remove the thumbnail file or use create_files(remove_old=True)                           to force recreation.\n",
      "Full-size PNG file Test2/Figure_005-a.png is newer than its source file.                        Remove the thumbnail file or use create_files(remove_old=True)                           to force recreation.\n",
      "Thumbnail PNG file Test2/thumb_Figure_005-a.png is newer than its source file.                        Remove the thumbnail file or use create_files(remove_old=True)                           to force recreation.\n",
      "Full-size PNG file Test2/Figure_005-a.png is newer than its source file.                        Remove the thumbnail file or use create_files(remove_old=True)                           to force recreation.\n",
      "Thumbnail PNG file Test2/thumb_Figure_005-a.png is newer than its source file.                        Remove the thumbnail file or use create_files(remove_old=True)                           to force recreation.\n",
      "Full-size PNG file Test2/Figure_005-a.png is newer than its source file.                        Remove the thumbnail file or use create_files(remove_old=True)                           to force recreation.\n",
      "Thumbnail PNG file Test2/thumb_Figure_005-a.png is newer than its source file.                        Remove the thumbnail file or use create_files(remove_old=True)                           to force recreation.\n",
      "Full-size PNG file Test2/Figure_005-a.png is newer than its source file.                        Remove the thumbnail file or use create_files(remove_old=True)                           to force recreation.\n",
      "Thumbnail PNG file Test2/thumb_Figure_005-a.png is newer than its source file.                        Remove the thumbnail file or use create_files(remove_old=True)                           to force recreation.\n",
      "Full-size PNG file Test2/Figure_005-a.png is newer than its source file.                        Remove the thumbnail file or use create_files(remove_old=True)                           to force recreation.\n",
      "Thumbnail PNG file Test2/thumb_Figure_005-a.png is newer than its source file.                        Remove the thumbnail file or use create_files(remove_old=True)                           to force recreation.\n",
      "Full-size PNG file Test2/Figure_005-b.png is newer than its source file.                        Remove the thumbnail file or use create_files(remove_old=True)                           to force recreation.\n",
      "Thumbnail PNG file Test2/thumb_Figure_005-b.png is newer than its source file.                        Remove the thumbnail file or use create_files(remove_old=True)                           to force recreation.\n",
      "Full-size PNG file Test2/Figure_005-b.png is newer than its source file.                        Remove the thumbnail file or use create_files(remove_old=True)                           to force recreation.\n",
      "Thumbnail PNG file Test2/thumb_Figure_005-b.png is newer than its source file.                        Remove the thumbnail file or use create_files(remove_old=True)                           to force recreation.\n"
     ]
    }
   ],
   "source": [
    "submission.create_files(\"Test2\",remove_old=True)"
   ]
  },
  {
   "cell_type": "code",
   "execution_count": null,
   "metadata": {},
   "outputs": [],
   "source": []
  }
 ],
 "metadata": {
  "kernelspec": {
   "display_name": "Python 3",
   "language": "python",
   "name": "python3"
  },
  "language_info": {
   "codemirror_mode": {
    "name": "ipython",
    "version": 3
   },
   "file_extension": ".py",
   "mimetype": "text/x-python",
   "name": "python",
   "nbconvert_exporter": "python",
   "pygments_lexer": "ipython3",
   "version": "3.9.0"
  }
 },
 "nbformat": 4,
 "nbformat_minor": 2
}
