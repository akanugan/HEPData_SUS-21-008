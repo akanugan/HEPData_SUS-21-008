{
 "cells": [
  {
   "cell_type": "markdown",
   "metadata": {},
   "source": [
    "# Reading histograms\n",
    "\n",
    "One of the most common tasks will be translating [ROOT](https://root.cern.ch) histograms into the HEPData format. `hepdata_lib` will help you with that, and this notebook will demonstrate how to do that.\n",
    "\n",
    "As explained in the [Getting started notebook](Getting_started.ipynb), a `Submission` needs to exist or be created. Here, we'll just create one without any additional information:"
   ]
  },
  {
   "cell_type": "code",
   "execution_count": 51,
   "metadata": {},
   "outputs": [],
   "source": [
    "from hepdata_lib import Submission\n",
    "submission = Submission()"
   ]
  },
  {
   "cell_type": "markdown",
   "metadata": {},
   "source": [
    "The plot will be a `Table`, in this example Figure 4a from page 12 (upper left) of the [publication](https://cms-results.web.cern.ch/cms-results/public-results/publications/B2G-17-009/index.html), which shows the distribution of the reconstructed B quark mass for the data as well as the individual simulated processes. Let's add all this, some more details as well as the actual plot (for thumbnail creation) to the `Table`:"
   ]
  },
  {
   "cell_type": "code",
   "execution_count": 52,
   "metadata": {},
   "outputs": [],
   "source": [
    "# Submission text\n",
    "submission.read_abstract(\"abstract.txt\")\n",
    "submission.add_link(\"Webpage with all figures and tables\", \"https://cms-results.web.cern.ch/cms-results/public-results/publications/SUS-21-002/\")\n",
    "#submission.add_link(\"arXiv\", \"Fill later\")\n",
    "#submission.add_record_id(1111, \"inspire\")"
   ]
  },
  {
   "cell_type": "code",
   "execution_count": 53,
   "metadata": {},
   "outputs": [],
   "source": [
    "from hepdata_lib import Table\n",
    "# table = Table(\"Figure 4a\")\n",
    "# table.description = \"Distribution in the reconstructed B quark mass, after applying all selections to events with no forward jet, compared to the background distributions estimated before fitting. The plot refers to the low-mass mB analysis. The expectations for signal MC events are given by the blue histogram lines. Different contributions to background are indicated by the colour-filled histograms. The grey-hatched error band shows total uncertainties in the background expectation. The ratio of observations to background expectations is given in the lower panel, together with the total uncertainties prior to fitting, indicated by the grey-hatched band.\"\n",
    "# table.location = \"Data from Figure 4 (upper left), located on page 12.\"\n",
    "# table.keywords[\"observables\"] = [\"N\"]\n",
    "# table.add_image(\"example_inputs/CMS-B2G-17-009_Figure_004-a.pdf\")\n",
    "\n",
    "table = Table(\"Figure 3a\")\n",
    "table.description = \"SM background prediction vs. observation in the b-veto signal region\"\n",
    "table.location = \"Data from Figure 3 (upper left), located on page 13.\"\n",
    "table.keywords[\"cmenergies\"] = [\"13000\"]\n",
    "table.keywords[\"observables\"] = [\"N\"]\n",
    "table.add_image(\"CMS-SUS-21-002_Figure_003-a.pdf\")\n",
    "table.keywords[\"phrases\"] = [\"Supersymmetry\", \"SUSY\"]\n",
    "#table.keywords[\"reactions\"] = [\"P P --> GRAVITON --> W+ W-\", \"P P --> WPRIME --> W+/W- Z0\"]"
   ]
  },
  {
   "cell_type": "markdown",
   "metadata": {},
   "source": [
    "The individual plot components are stored in different ROOT files, one for the individual background processes (one histogram per process plus the total), another one for the data, and the third for the signal process. All histograms here are of type [TH1](https://root.cern.ch/doc/master/classTH1.html), but you can also read in 2-dimensional [TH2](https://root.cern.ch/doc/master/classTH2.html) using `read_hist_2d(...)` instead of `read_hist_1d(...)`:"
   ]
  },
  {
   "cell_type": "code",
   "execution_count": 54,
   "metadata": {},
   "outputs": [],
   "source": [
    "from hepdata_lib import RootFileReader\n",
    "\n",
    "# reader = RootFileReader(\"example_inputs/mlfit_lm_1000.root\")\n",
    "# reader_data = RootFileReader(\"example_inputs/Data_cat0_singleH.root\")\n",
    "# reader_signal = RootFileReader(\"example_inputs/BprimeBToHB1000_cat0_singleH.root\")\n",
    "\n",
    "# TotalBackground = reader.read_hist_1d(\"shapes_prefit/cat0_singleH/total_background\")\n",
    "# TT = reader.read_hist_1d(\"shapes_prefit/cat0_singleH/TT\")\n",
    "# QCD = reader.read_hist_1d(\"shapes_prefit/cat0_singleH/QCDTT\")\n",
    "# WJets = reader.read_hist_1d(\"shapes_prefit/cat0_singleH/WJets\")\n",
    "# ZJets = reader.read_hist_1d(\"shapes_prefit/cat0_singleH/ZJets\")\n",
    "\n",
    "# Data = reader_data.read_hist_1d(\"h_bprimemass_SRlm\")\n",
    "\n",
    "# signal = reader_signal.read_hist_1d(\"h_bprimemass_SRlm\")\n",
    "\n",
    "reader = RootFileReader(\"combined_PostFitPredictions_Run2_Mask.root\")\n",
    "#reader_signalWZ = RootFileReader(\"onlySR_TChiWZ_600_1_MCRun2.root\")\n",
    "#reader_signalWW = RootFileReader(\"onlySR_TChiWW_500_1_MCRun2.root\")\n",
    "reader_signalWZ = RootFileReader(\"onlySR_WZrun2_600_1.root\")\n",
    "reader_signalWW = RootFileReader(\"onlySR_WWrun2_500_1.root\")\n",
    "\n",
    "TotalBackground = reader.read_hist_1d(\"TotalBG\")\n",
    "ZEROONERES = reader.read_hist_1d(\"zeroOneres\")\n",
    "TWORES = reader.read_hist_1d(\"Twores\")\n",
    "\n",
    "Data = reader.read_hist_1d(\"DataFit\")\n",
    "\n",
    "signalWZ = reader_signalWZ.read_hist_1d(\"METvBin\")\n",
    "signalWW = reader_signalWW.read_hist_1d(\"METvBin\")"
   ]
  },
  {
   "cell_type": "markdown",
   "metadata": {},
   "source": [
    "The content of the histograms is stored as a dictionary, with keys `x` (bin center), `y` (bin value or for `TH2` the bin center of the 2nd dimension), `z` (`TH2` only: bin value), as well as the bin errors `dy` (`dz` for `TH2`). Furthermore, the lower and upper bin edges (`x_edges`, for `TH2` also `y_edges`) are stored for each bin:"
   ]
  },
  {
   "cell_type": "code",
   "execution_count": 55,
   "metadata": {},
   "outputs": [
    {
     "data": {
      "text/plain": [
       "dict_keys(['x', 'y', 'x_edges', 'x_labels', 'dy'])"
      ]
     },
     "execution_count": 55,
     "metadata": {},
     "output_type": "execute_result"
    }
   ],
   "source": [
    "TotalBackground.keys()"
   ]
  },
  {
   "cell_type": "markdown",
   "metadata": {},
   "source": [
    "The `RootFileReader` automatically recognises if the histogram has symmetric or assymmetric errors based on [TH1::GetBinErrorOption()](https://root.cern.ch/doc/master/classTH1.html#ac6e38c12259ab72c0d574614ee5a61c7). Symmetric errors are returned if this returns `TH1::kNormal`, in this case (as for the example here) the errors are a plain `float` per bin, otherwise a `tuple` of `float`. The bin edges are always stored as `tuple`:"
   ]
  },
  {
   "cell_type": "code",
   "execution_count": 56,
   "metadata": {},
   "outputs": [
    {
     "name": "stdout",
     "output_type": "stream",
     "text": [
      "x <class 'list'> <class 'float'>\n",
      "y <class 'list'> <class 'float'>\n",
      "x_edges <class 'list'> <class 'tuple'>\n",
      "x_labels <class 'list'> <class 'str'>\n",
      "dy <class 'list'> <class 'float'>\n"
     ]
    }
   ],
   "source": [
    "from __future__ import print_function\n",
    "for key in TotalBackground.keys():\n",
    "    print(key, type(TotalBackground[key]), type(TotalBackground[key][0]))"
   ]
  },
  {
   "cell_type": "markdown",
   "metadata": {},
   "source": [
    "Now define the variables:"
   ]
  },
  {
   "cell_type": "code",
   "execution_count": 57,
   "metadata": {},
   "outputs": [],
   "source": [
    "from hepdata_lib import Variable, Uncertainty\n",
    "\n",
    "#-----------\n",
    "\n",
    "# x-axis: MET\n",
    "#print(Data[\"x_edges\"])\n",
    "xBins = Variable(\"$p_{miss}^{T}$\", is_independent=True, is_binned=True, units=\"GeV\")\n",
    "# temp = []\n",
    "# for i in range(0,len(Data[\"x\"])-1):\n",
    "#     temp.append((Data[\"x\"][i],Data[\"x\"][i+1]))\n",
    "# xBins.values = temp\n",
    "xBins.values = Data[\"x_edges\"]\n",
    "\n",
    "sigWZ = Variable(\"Number of WZ signal events\", is_independent=False, is_binned=False, units=\"\")\n",
    "sigWZ.values = signalWZ[\"y\"]\n",
    "\n",
    "# y-axis: N events\n",
    "sigWW = Variable(\"Number of WW signal events\", is_independent=False, is_binned=False, units=\"\")\n",
    "sigWW.values = signalWW[\"y\"]\n",
    "\n",
    "totalbackground = Variable(\"Number of background events\", is_independent=False, is_binned=False, units=\"\")\n",
    "totalbackground.values = TotalBackground[\"y\"]\n",
    "\n",
    "zeroOneRes = Variable(\"Number of 0,1 res BG events\", is_independent=False, is_binned=False, units=\"\")\n",
    "zeroOneRes.values = ZEROONERES[\"y\"]\n",
    "\n",
    "twoRes = Variable(\"Number of rare BG events\", is_independent=False, is_binned=False, units=\"\")\n",
    "twoRes.values = TWORES[\"y\"]\n",
    "\n",
    "data = Variable(\"Number of data events\", is_independent=False, is_binned=False, units=\"\")\n",
    "data.values = Data[\"y\"]"
   ]
  },
  {
   "cell_type": "markdown",
   "metadata": {},
   "source": [
    "For the data as well as the background total, we will also provide the associated uncertainties:"
   ]
  },
  {
   "cell_type": "code",
   "execution_count": 58,
   "metadata": {},
   "outputs": [],
   "source": [
    "from hepdata_lib import Uncertainty\n",
    "\n",
    "unc_totalbackground = Uncertainty(\"Total uncertainty\", is_symmetric=True)\n",
    "unc_totalbackground.values = TotalBackground[\"dy\"]\n",
    "\n",
    "unc_data = Uncertainty(\"Data uncertainty\", is_symmetric=True)\n",
    "unc_data.values = Data[\"dy\"]\n",
    "\n",
    "totalbackground.add_uncertainty(unc_totalbackground)\n",
    "data.add_uncertainty(unc_data)"
   ]
  },
  {
   "cell_type": "markdown",
   "metadata": {},
   "source": [
    "Now we can add the variables to the `Table` and the `Table` to the `Submission`, and create the files. Please refer to the [Getting started notebook](Getting_started.ipynb) for a complete example."
   ]
  },
  {
   "cell_type": "code",
   "execution_count": 59,
   "metadata": {},
   "outputs": [],
   "source": [
    "#table.add_variable(mmed)\n",
    "table.add_variable(xBins)\n",
    "table.add_variable(zeroOneRes)\n",
    "table.add_variable(twoRes)\n",
    "table.add_variable(totalbackground)\n",
    "table.add_variable(sigWZ)\n",
    "table.add_variable(sigWW)\n",
    "table.add_variable(data)\n",
    "\n",
    "submission.add_table(table)\n",
    "\n",
    "#submission.create_files(\"submission\",remove_old=True)"
   ]
  },
  {
   "cell_type": "code",
   "execution_count": 60,
   "metadata": {},
   "outputs": [],
   "source": [
    "#!head submission/figure_3a.yaml"
   ]
  },
  {
   "cell_type": "code",
   "execution_count": 61,
   "metadata": {},
   "outputs": [],
   "source": [
    "# ratio plots\n",
    "def data_pred_ratio(inputfile, sig, tablename, desc, loc, kw, addImage):\n",
    "    table = Table(tablename)\n",
    "    table.description = desc\n",
    "    table.location = loc\n",
    "    table.keywords[\"observables\"] = kw\n",
    "    table.add_image(addImage)\n",
    "    reader = RootFileReader(inputfile)\n",
    "    \n",
    "    Data = reader.read_hist_1d(\"DataFit\")\n",
    "    TotalBackground = reader.read_hist_1d(\"TotalBG\")\n",
    "    \n",
    "#     data = Variable(\"Number of data events\", is_independent=False, is_binned=False, units=\"\")\n",
    "#     data.values = Data[\"y\"]\n",
    "    \n",
    "#     totalbackground = Variable(\"Number of background events\", is_independent=False, is_binned=False, units=\"\")\n",
    "#     totalbackground.values = TotalBackground[\"y\"]\n",
    "\n",
    "    xBins = Variable(\"$p_{miss}^{T}$\", is_independent=True, is_binned=True, units=\"GeV\")\n",
    "    xBins.values = Data[\"x_edges\"]\n",
    "\n",
    "    ratio = Variable(\"N_{obs}/N_{exp}\", is_independent=False, is_binned=False, units=\"\")\n",
    "    ratio.values = [d/b for d, b in zip(Data[\"y\"], TotalBackground[\"y\"])]\n",
    "    \n",
    "    data_unc = Uncertainty(\"Data uncertainty\", is_symmetric=True)\n",
    "    data_unc.values = [du/b for du, b in zip(Data[\"dy\"], TotalBackground[\"y\"])]\n",
    "    \n",
    "    central = Variable(\"Background uncertainty\", is_independent=False, is_binned=False, units=\"\")\n",
    "    central.values = [1.0] * len(Data[\"x\"])\n",
    "    \n",
    "\n",
    "    \n",
    "    if sig == \"METvBin_FBWH_SR\":\n",
    "        central_unc = Uncertainty(\"Bkg. uncertainty\", is_symmetric=False)        \n",
    "        uncpos = TotalBackground[\"dy\"][:-2]+[1.12,1.09]\n",
    "        uncneg = [i*-1 for i in TotalBackground[\"dy\"][:-2]]+[-0.5,-0.43]\n",
    "                \n",
    "        uncP = [bu/b for bu, b in zip(uncpos, TotalBackground[\"y\"])]\n",
    "        uncM = [bu/b for bu, b in zip(uncneg, TotalBackground[\"y\"])]\n",
    "        \n",
    "        central_unc.values = list(zip(uncM,uncP))\n",
    "        \n",
    "    elif sig == \"METvBin_FBW_SR\":\n",
    "        central_unc = Uncertainty(\"Bkg. uncertainty\", is_symmetric=False)\n",
    "        uncpos = TotalBackground[\"dy\"][:-1]+[1.70]\n",
    "        uncneg = [i*-1 for i in TotalBackground[\"dy\"][:-1]]+[-1.03]\n",
    "        \n",
    "        uncP = [bu/b for bu, b in zip(uncpos, TotalBackground[\"y\"])]\n",
    "        uncM = [bu/b for bu, b in zip(uncneg, TotalBackground[\"y\"])]\n",
    "       \n",
    "        central_unc.values = list(zip(uncM,uncP))\n",
    "        \n",
    "    else:       \n",
    "        central_unc = Uncertainty(\"Bkg. uncertainty\", is_symmetric=True)\n",
    "        central_unc.values = [bu/b for bu, b in zip(TotalBackground[\"dy\"], TotalBackground[\"y\"])]\n",
    "    \n",
    "    print(f'{central_unc.values=}')\n",
    "    \n",
    "    ratio.add_uncertainty(data_unc)\n",
    "    central.add_uncertainty(central_unc)\n",
    "    \n",
    "    table.add_variable(xBins)\n",
    "    table.add_variable(ratio)\n",
    "    table.add_variable(central)\n",
    "\n",
    "    submission.add_table(table)\n",
    "    "
   ]
  },
  {
   "cell_type": "code",
   "execution_count": 62,
   "metadata": {},
   "outputs": [
    {
     "name": "stdout",
     "output_type": "stream",
     "text": [
      "central_unc.values=[0.10478492218085124, 0.13990525673903845, 0.17382612807511974, 0.2407982059624376, 0.25729148341104563, 0.26999258458007197, 0.2877054063694887, 0.3600874903007981, 0.8471982007431388]\n"
     ]
    }
   ],
   "source": [
    "#data_pred_ratio(inputfile, sig, tablename, desc, loc, kw, addImage)\n",
    "data_pred_ratio(\"combined_PostFitPredictions_Run2_Mask.root\", \"METvBin\", \"Figure 3a ratios\", \\\n",
    " \"SM background observation/prediction in the bVeto signal region\", \\\n",
    " \"Data from Figure 3 (upper left), located on page 13.\", [\"N/N\"], \"Figure_003-a.pdf\")\n"
   ]
  },
  {
   "cell_type": "code",
   "execution_count": 63,
   "metadata": {},
   "outputs": [],
   "source": [
    "#b tag met plots\n",
    "def met_plot_btag(inputfile, sig, tablename, desc, loc, kw, addImage):\n",
    "    table = Table(tablename)\n",
    "    table.description = desc\n",
    "    table.location = loc\n",
    "    table.keywords[\"observables\"] = kw\n",
    "    table.add_image(addImage)\n",
    "    reader = RootFileReader(inputfile)\n",
    "    \n",
    "    reader_signalWZ = RootFileReader(\"onlySR_TChiWZ_800_100_MCRun2.root\")\n",
    "    reader_signalWW = RootFileReader(\"onlySR_TChiWH_1000_100_MCRun2.root\")\n",
    "    \n",
    "    TotalBackground = reader.read_hist_1d(\"TotalBG\")\n",
    "    TOP = reader.read_hist_1d(\"Top\")\n",
    "    NONRES = reader.read_hist_1d(\"Nonres\")\n",
    "    RARE = reader.read_hist_1d(\"Rare\")\n",
    "\n",
    "    Data = reader.read_hist_1d(\"DataFit\")\n",
    "\n",
    "    signalWZ = reader_signalWZ.read_hist_1d(sig)\n",
    "    signalWH = reader_signalWW.read_hist_1d(sig)\n",
    "    \n",
    "    xBins = Variable(\"$p_{miss}^{T}$\", is_independent=True, is_binned=True, units=\"GeV\")\n",
    "    xBins.values = Data[\"x_edges\"]\n",
    "\n",
    "    sigWZ = Variable(\"Number of WZ signal events\", is_independent=False, is_binned=False, units=\"\")\n",
    "    sigWZ.values = signalWZ[\"y\"]\n",
    "\n",
    "    sigWH = Variable(\"Number of WH signal events\", is_independent=False, is_binned=False, units=\"\")\n",
    "    sigWH.values = signalWH[\"y\"]\n",
    "\n",
    "    totalbackground = Variable(\"Number of background events\", is_independent=False, is_binned=False, units=\"\")\n",
    "    totalbackground.values = TotalBackground[\"y\"]\n",
    "\n",
    "    #print(f'{totalbackground.values=}')\n",
    "    \n",
    "    top = Variable(\"Number of top BG events\", is_independent=False, is_binned=False, units=\"\")\n",
    "    top.values = TOP[\"y\"]\n",
    "    if sig == \"METvBin_FBWH_SR\":\n",
    "        top.values[-2] = 0\n",
    "        top.values[-1] = 0\n",
    "        \n",
    "    if sig == \"METvBin_FBW_SR\":   \n",
    "        top.values[-1] = 0\n",
    "        \n",
    "    #print(top.values)\n",
    "\n",
    "    nonres = Variable(\"Number of 0-res BG events\", is_independent=False, is_binned=False, units=\"\")\n",
    "    nonres.values = NONRES[\"y\"]\n",
    "    \n",
    "    rare = Variable(\"Number of rare BG events\", is_independent=False, is_binned=False, units=\"\")\n",
    "    rare.values = RARE[\"y\"]\n",
    "\n",
    "    data = Variable(\"Number of data events\", is_independent=False, is_binned=False, units=\"\")\n",
    "    data.values = Data[\"y\"]\n",
    "    \n",
    "    if sig == \"METvBin_FBWH_SR\" or sig == \"METvBin_FBW_SR\":\n",
    "        unc_totalbackground = Uncertainty(\"Total uncertainty\", is_symmetric=False)\n",
    "        unc_totalbackground.values = list(zip(TotalBackground[\"dy\"],TotalBackground[\"dy\"]))\n",
    "    else:       \n",
    "        unc_totalbackground = Uncertainty(\"Total uncertainty\", is_symmetric=True)\n",
    "        unc_totalbackground.values = TotalBackground[\"dy\"]\n",
    "        \n",
    "    if sig == \"METvBin_FBWH_SR\":\n",
    "        unc_totalbackground.values[-2] = (-0.5,1.12)\n",
    "        unc_totalbackground.values[-1] = (-0.43,1.09)\n",
    "        \n",
    "    if sig == \"METvBin_FBW_SR\":\n",
    "        unc_totalbackground.values[-1] = (-1.03,1.70)\n",
    "        \n",
    "        \n",
    "    #print(unc_totalbackground.values)\n",
    "\n",
    "    unc_data = Uncertainty(\"Data uncertainty\", is_symmetric=True)\n",
    "    unc_data.values = Data[\"dy\"]\n",
    "\n",
    "    \n",
    "    totalbackground.add_uncertainty(unc_totalbackground)\n",
    "    data.add_uncertainty(unc_data)\n",
    "    \n",
    "    table.add_variable(xBins)\n",
    "    table.add_variable(top)\n",
    "    table.add_variable(nonres)\n",
    "    table.add_variable(rare)\n",
    "    table.add_variable(totalbackground)\n",
    "    table.add_variable(sigWZ)\n",
    "    table.add_variable(sigWH)\n",
    "    table.add_variable(data)\n",
    "\n",
    "    submission.add_table(table)\n"
   ]
  },
  {
   "cell_type": "code",
   "execution_count": 64,
   "metadata": {},
   "outputs": [
    {
     "name": "stdout",
     "output_type": "stream",
     "text": [
      "central_unc.values=[(-0.15500510999956277, 0.15500510999956277), (-0.20275074568297088, 0.20275074568297088), (-0.24874661705558634, 0.24874661705558634), (-0.4328118362295033, 0.4328118362295033), (-0.3951672085862582, 0.3951672085862582), (-0.4840778115578834, 0.4840778115578834), (-0.42044278418002706, 0.9417918365632608), (-0.42317882949939245, 1.0727091259403205)]\n",
      "central_unc.values=[(-0.06146955472438424, 0.06146955472438424), (-0.09787127376765409, 0.09787127376765409), (-0.0763001065679006, 0.0763001065679006), (-0.09949664854973363, 0.09949664854973363), (-0.11375292859162267, 0.11375292859162267), (-0.1349030838613576, 0.1349030838613576), (-0.13407059091112467, 0.13407059091112467), (-0.1709661865897351, 0.1709661865897351), (-0.2923777387742252, 0.482565199918624)]\n",
      "central_unc.values=[0.04910028436919059, 0.04897512588680744, 0.06378268831004882, 0.08709659371178331, 0.1081435860756063, 0.10336133092795946, 0.1277268635500286, 0.1573668685414026, 0.3321338980842415]\n"
     ]
    }
   ],
   "source": [
    "met_plot_btag(\"bTag_WHT_SRmaskedPredictions_Run2.root\", \"METvBin_FBWH_SR\", \"Figure 3b\", \\\n",
    "              \"SM background prediction vs. observation in the WH signal region\", \\\n",
    "              \"Data from Figure 3 (upper right), located on page 13.\", [\"N\"], \"Figure_003-b.pdf\")\n",
    "\n",
    "data_pred_ratio(\"bTag_WHT_SRmaskedPredictions_Run2.root\", \"METvBin_FBWH_SR\", \"Figure 3b ratios\", \\\n",
    " \"SM background observation/prediction in the WH signal region\", \\\n",
    " \"Data from Figure 3 (upper right), located on page 13.\", [\"N/N\"], \"Figure_003-b.pdf\")\n",
    "\n",
    "met_plot_btag(\"bTag_WT_SRmaskedPredictions_Run2.root\", \"METvBin_FBW_SR\", \"Figure 3c\", \\\n",
    "              \"SM background prediction vs. observation in the W signal region\", \\\n",
    "              \"Data from Figure 3 (lower left), located on page 13.\", [\"N\"], \"Figure_003-c.pdf\")\n",
    "\n",
    "data_pred_ratio(\"bTag_WT_SRmaskedPredictions_Run2.root\", \"METvBin_FBW_SR\", \"Figure 3c ratios\", \\\n",
    " \"SM background observation/prediction in the W signal region\", \\\n",
    " \"Data from Figure 3 (lower left), located on page 13.\", [\"N/N\"], \"Figure_003-c.pdf\")\n",
    "\n",
    "met_plot_btag(\"bTag_HT_SRmaskedPredictions_Run2.root\", \"METvBin_FBH_SR\", \"Figure 3d\",  \\\n",
    "              \"SM background prediction vs. observation in the H signal region\", \\\n",
    "              \"Data from Figure 3 (lower right), located on page 13.\", [\"N\"], \"Figure_003-d.pdf\")\n",
    "\n",
    "data_pred_ratio(\"bTag_HT_SRmaskedPredictions_Run2.root\", \"METvBin_FBH_SR\", \"Figure 3d ratios\", \\\n",
    " \"SM background observation/prediction in the H signal region\", \\\n",
    " \"Data from Figure 3 (lower right), located on page 13.\", [\"N/N\"], \"Figure_003-d.pdf\")"
   ]
  },
  {
   "cell_type": "code",
   "execution_count": 65,
   "metadata": {},
   "outputs": [],
   "source": [
    "def write_obs_contours(inputfile, tablename, desc, loc, kw, addImage):\n",
    "    table = Table(tablename)\n",
    "    table.description = desc\n",
    "    table.location = loc\n",
    "    table.keywords[\"cmenergies\"] = [\"13000\"]\n",
    "    table.keywords[\"observables\"] = kw\n",
    "    table.add_image(addImage)\n",
    "    table.keywords[\"phrases\"] = [\"Supersymmetry\", \"SUSY\"]\n",
    "    #table.keywords[\"reactions\"] = react\n",
    "    \n",
    "    reader = RootFileReader(inputfile)\n",
    "    other=[\"TChiWH\",\"TChiWW_WH\"]\n",
    "    if \"TChiWH\" in inputfile:\n",
    "    #if(substring in inputfile for substring in other):\n",
    "        print(inputfile)\n",
    "        #print(substring)\n",
    "        OBSWW = reader.read_graph(\"graph_smoothed_Obs_1\")\n",
    "        OBSPWW = reader.read_graph(\"graph_smoothed_ObsP_1\")\n",
    "        OBSMWW = reader.read_graph(\"graph_smoothed_ObsM_1\")\n",
    "    elif \"TChiWW_WH\" in inputfile:\n",
    "        print(inputfile)\n",
    "        #print(substring)\n",
    "        OBSWW = reader.read_graph(\"graph_smoothed_Obs_1\")\n",
    "        OBSPWW = reader.read_graph(\"graph_smoothed_ObsP_1\")\n",
    "        OBSMWW = reader.read_graph(\"graph_smoothed_ObsM_1\")\n",
    "    else:\n",
    "        OBSWW = reader.read_graph(\"graph_smoothed_Obs\")\n",
    "        OBSPWW = reader.read_graph(\"graph_smoothed_ObsP\")\n",
    "        OBSMWW = reader.read_graph(\"graph_smoothed_ObsM\")\n",
    "    \n",
    "    # x-axis: Mass of NLSP\n",
    "    mnlsp = Variable(\"m(NSLP)\", is_independent=True, is_binned=False, units=\"GeV\")\n",
    "    mnlsp.values = OBSWW[\"x\"] + OBSPWW[\"x\"] + OBSMWW[\"x\"]\n",
    "    \n",
    "    #y-axis: obs limit contours\n",
    "    obsWW = Variable(\"max m(LSP) [GeV] excluded\", is_independent=False, is_binned=False, units=\"\")\n",
    "    obsWW.values = OBSWW[\"y\"] + ['~'] * len(OBSPWW[\"x\"] + OBSMWW[\"x\"])\n",
    "\n",
    "    obsPWW = Variable(\"max m(LSP) [GeV] excluded +1 sigma\", is_independent=False, is_binned=False, units=\"\")\n",
    "    obsPWW.values = ['~'] * len(OBSWW[\"x\"]) + OBSPWW[\"y\"] + ['~'] * len(OBSMWW[\"x\"])\n",
    "\n",
    "    obsMWW = Variable(\"max m(LSP) [GeV] excluded -1 sigma\", is_independent=False, is_binned=False, units=\"\")\n",
    "    obsMWW.values = ['~'] * len(OBSWW[\"x\"] + OBSPWW[\"x\"]) + OBSMWW[\"y\"] \n",
    "    \n",
    "    print('obs values len: ',len(obsWW.values))\n",
    "    \n",
    "    table.add_variable(mnlsp)\n",
    "    table.add_variable(obsWW)\n",
    "    table.add_variable(obsPWW)\n",
    "    table.add_variable(obsMWW)\n",
    "\n",
    "    submission.add_table(table)"
   ]
  },
  {
   "cell_type": "code",
   "execution_count": 66,
   "metadata": {},
   "outputs": [],
   "source": [
    "def write_exp_contours(inputfile, tablename, desc, loc, kw, addImage):\n",
    "    table = Table(tablename)\n",
    "    table.description = desc\n",
    "    table.location = loc\n",
    "    table.keywords[\"cmenergies\"] = [\"13000\"]\n",
    "    table.keywords[\"observables\"] = kw\n",
    "    table.add_image(addImage)\n",
    "    reader = RootFileReader(inputfile)\n",
    "    table.keywords[\"phrases\"] = [\"Supersymmetry\", \"SUSY\"]\n",
    "    #table.keywords[\"reactions\"] = react\n",
    "\n",
    "    if \"TChiWZ\" in inputfile:\n",
    "        print(inputfile)\n",
    "        #print(substring)\n",
    "        EXPWW = reader.read_graph(\"graph_smoothed_Exp\")\n",
    "        EXPPWW = reader.read_graph(\"graph_smoothed_ExpP\")\n",
    "        EXPMWW = reader.read_graph(\"graph_smoothed_ExpM_2\")\n",
    "    elif \"TChiWH\" in inputfile:\n",
    "        print(inputfile)\n",
    "        #print(substring)\n",
    "        EXPWW = reader.read_graph(\"graph_smoothed_Exp\")\n",
    "        EXPPWW = reader.read_graph(\"graph_smoothed_ExpP\")\n",
    "        EXPMWW = reader.read_graph(\"graph_smoothed_ExpM_1\")\n",
    "    elif \"TChiWW_WH\" in inputfile:\n",
    "        print(inputfile)\n",
    "        #print(substring)\n",
    "        EXPWW = reader.read_graph(\"graph_smoothed_Exp\")\n",
    "        EXPPWW = reader.read_graph(\"graph_smoothed_ExpP\") \n",
    "        EXPMWW = reader.read_graph(\"graph_smoothed_ExpM_1\")\n",
    "    else:\n",
    "        EXPWW = reader.read_graph(\"graph_smoothed_Exp\")\n",
    "        EXPPWW = reader.read_graph(\"graph_smoothed_ExpP\")\n",
    "        EXPMWW = reader.read_graph(\"graph_smoothed_ExpM\")\n",
    "        \n",
    "    # x-axis: Mass of NLSP\n",
    "    mnlsp = Variable(\"m(NLSP)\", is_independent=True, is_binned=False, units=\"GeV\")\n",
    "    mnlsp.values = EXPWW[\"x\"] + EXPPWW[\"x\"] + EXPMWW[\"x\"]\n",
    "\n",
    "    #y-axis: exp limit contours\n",
    "    expWW = Variable(\"max m(LSP) [GeV] excluded\", is_independent=False, is_binned=False, units=\"\")\n",
    "    expWW.values = EXPWW[\"y\"] + ['~'] * len(EXPPWW[\"x\"] + EXPMWW[\"x\"])\n",
    "\n",
    "    expPWW = Variable(\"max m(LSP) [GeV] excluded +1 sigma\", is_independent=False, is_binned=False, units=\"\")\n",
    "    expPWW.values = ['~'] * len(EXPWW[\"x\"]) + EXPPWW[\"y\"] + ['~'] * len(EXPMWW[\"x\"])\n",
    "\n",
    "    expMWW = Variable(\"max m(LSP) [GeV] excluded -1 sigma\", is_independent=False, is_binned=False, units=\"\")\n",
    "    expMWW.values = ['~'] * len(EXPWW[\"x\"] + EXPPWW[\"x\"]) + EXPMWW[\"y\"] \n",
    "\n",
    "    table.add_variable(mnlsp)\n",
    "    table.add_variable(expWW)\n",
    "    table.add_variable(expPWW)\n",
    "    table.add_variable(expMWW)\n",
    "\n",
    "\n",
    "    submission.add_table(table)"
   ]
  },
  {
   "cell_type": "code",
   "execution_count": 67,
   "metadata": {},
   "outputs": [],
   "source": [
    "def obs_heatmap(inputfile, tablename, desc, loc, kw, addImage):\n",
    "    table = Table(tablename)\n",
    "    table.description = desc\n",
    "    table.location = loc\n",
    "    table.keywords[\"cmenergies\"] = [\"13000\"]\n",
    "    table.keywords[\"observables\"] = kw\n",
    "    table.add_image(addImage)\n",
    "    reader = RootFileReader(inputfile)\n",
    "    table.keywords[\"phrases\"] = [\"Supersymmetry\", \"SUSY\"]\n",
    "    #table.keywords[\"reactions\"] = react\n",
    "\n",
    "    OBSXSEC = reader.read_hist_2d(\"hXsec_obs_corr\")\n",
    "#     print(len(OBSXSEC[\"z\"]))\n",
    "    zvalues = [i for i in OBSXSEC[\"z\"] if i !=0]\n",
    "    xvalues = [OBSXSEC[\"x_edges\"][it] for it,i in enumerate(OBSXSEC[\"z\"]) if i !=0]\n",
    "    yvalues = [OBSXSEC[\"y_edges\"][it] for it,i in enumerate(OBSXSEC[\"z\"]) if i !=0]\n",
    "    \n",
    "    print('zvalues',len(zvalues))\n",
    "    print('xvalues',len(xvalues))\n",
    "    \n",
    "    \n",
    "    mnlsp = Variable(\"m(NLSP)\", is_independent=True, is_binned=True, units=\"GeV\")\n",
    "    #mnlsp.values = OBSXSEC[\"x_edges\"]\n",
    "    mnlsp.values = xvalues\n",
    "    print('mnlsp variable len: ', len(mnlsp.values))\n",
    "\n",
    "    mlsp = Variable(\"m(LSP)\", is_independent=True, is_binned=True, units=\"GeV\")\n",
    "    #mlsp.values = OBSXSEC[\"y_edges\"]\n",
    "    mlsp.values = yvalues\n",
    "\n",
    "    obsxsec = Variable(\"Observed Limits\", is_independent=False, is_binned=False, units=\"\")\n",
    "    #obsxsec.values = OBSXSEC[\"z\"]\n",
    "    obsxsec.values = zvalues\n",
    "    #print('mnlsp variable len: ', obsxsec.values[:40])\n",
    "    \n",
    "    table.add_variable(mnlsp)\n",
    "    table.add_variable(mlsp)\n",
    "    table.add_variable(obsxsec)\n",
    "    \n",
    "    submission.add_table(table)"
   ]
  },
  {
   "cell_type": "code",
   "execution_count": 68,
   "metadata": {},
   "outputs": [],
   "source": [
    "######## description for the table in the top section\n",
    "\n",
    "obs_contour_lines=\"Observed exclusion limits assuming the approximate-NLO+NLL cross sections\"\n",
    "exp_contour_lines=\"Expected exclusion limits assuming the approximate-NLO+NLL cross sections\"\n",
    "\n",
    "WWobsXsec_desc=\"The 95% CL observed upper limits on the production cross sections for \\\n",
    "$\\widetilde{\\chi}^\\pm_1$ $\\widetilde{\\chi}^\\mp_1$ assuming that each $\\widetilde{\\chi}^\\pm_1$ \\\n",
    "decays to a W boson and $\\widetilde{\\chi}^0_1$\"\n",
    "\n",
    "WZobsXsec_desc=\"The 95% CL observed upper limits on the production cross sections for \\\n",
    "$\\widetilde{\\chi}^\\pm_1$ $\\widetilde{\\chi}^0_2$ assuming that each $\\widetilde{\\chi}^\\pm_1$ \\\n",
    "decays to a W boson and $\\widetilde{\\chi}^0_1$ and the $\\widetilde{\\chi}^0_2$ \\\n",
    "decays to a Z boson and $\\widetilde{\\chi}^0_1$\"\n",
    "\n",
    "WHobsXsec_desc=\"The 95% CL observed upper limits on the production cross sections for \\\n",
    "$\\widetilde{\\chi}^\\pm_1$ $\\widetilde{\\chi}^0_2$ assuming that each $\\widetilde{\\chi}^\\pm_1$ \\\n",
    "decays to a W boson and $\\widetilde{\\chi}^0_1$ and the $\\widetilde{\\chi}^0_2$ \\\n",
    "decays to a H boson and $\\widetilde{\\chi}^0_1$\"\n",
    "\n",
    "WWWZobsXsec_desc=\"The 95% CL observed upper limits on the production cross sections for mass-degenerate wino-like\\\n",
    "$\\widetilde{\\chi}^\\pm_1$ $\\widetilde{\\chi}^\\mp_1$ and $\\widetilde{\\chi}^\\pm_1$ $\\widetilde{\\chi}^0_2$ as \\\n",
    "functions of the NLSP and LSP masses.\"\n",
    "\n",
    "WWWHobsXsec_desc=\"The 95% CL observed upper limits on the production cross sections for mass-degenerate wino-like\\\n",
    "$\\widetilde{\\chi}^\\pm_1$ $\\widetilde{\\chi}^\\mp_1$ and $\\widetilde{\\chi}^\\pm_1$ $\\widetilde{\\chi}^0_2$ as \\\n",
    "functions of the NLSP and LSP masses.\"\n",
    "\n",
    "HinoobsXsec_desc=\"The 95% CL observed upper limits on the production cross sections for mass-degenerate higgsino-like\\\n",
    "$\\widetilde{\\chi}^\\pm_1$ $\\widetilde{\\chi}^\\mp_1$, $\\widetilde{\\chi}^\\pm_1$ $\\widetilde{\\chi}^0_2$, \\\n",
    "$\\widetilde{\\chi}^\\pm_1$ $\\widetilde{\\chi}^0_3$ and $\\widetilde{\\chi}^0_2$ $\\widetilde{\\chi}^0_3$  as \\\n",
    "functions of the NLSP and LSP masses.\""
   ]
  },
  {
   "cell_type": "code",
   "execution_count": 69,
   "metadata": {},
   "outputs": [
    {
     "name": "stdout",
     "output_type": "stream",
     "text": [
      "obs values len:  170\n",
      "zvalues 14977\n",
      "xvalues 14977\n",
      "mnlsp variable len:  14977\n"
     ]
    }
   ],
   "source": [
    "#TChiWW\n",
    "reactWW = [\"P P --> $\\widetilde{\\chi}^\\pm_1$ $\\widetilde{\\chi}^pm_1$\", \"$\\widetilde{\\chi}^pm_1$ --> W $\\widetilde{\\chi}^0_1$\"]\n",
    "write_obs_contours(\"afterCWR_TChiWW.root\",\"Figure 4a Observed Lines\",obs_contour_lines,\\\n",
    "                   \"Data from Figure 4 (upper left), located on page 14.\", [\"Cross-section\"], \"Figure_004-a.pdf\")\n",
    "\n",
    "write_exp_contours(\"afterCWR_TChiWW.root\",\"Figure 4a Expected Lines\",exp_contour_lines,\\\n",
    "                   \"Data from Figure 4 (upper left), located on page 14.\", [\"Cross-section\"], \"Figure_004-a.pdf\")\n",
    "\n",
    "obs_heatmap(\"afterCWR_TChiWW.root\",\"Figure 4a Observed\",WWobsXsec_desc,\\\n",
    "                   \"Data from Figure 4 (upper left), located on page 14.\", [\"Cross-section\"], \"Figure_004-a.pdf\")"
   ]
  },
  {
   "cell_type": "code",
   "execution_count": 70,
   "metadata": {},
   "outputs": [
    {
     "name": "stdout",
     "output_type": "stream",
     "text": [
      "obs values len:  218\n",
      "afterCWR_TChiWZ.root\n",
      "zvalues 14977\n",
      "xvalues 14977\n",
      "mnlsp variable len:  14977\n"
     ]
    }
   ],
   "source": [
    "#TChiWZ\n",
    "reactWZ = [\"P P --> $\\widetilde{\\chi}^\\pm_1$ $\\widetilde{\\chi}^0_2$\", \\\n",
    "           \"$\\widetilde{\\chi}^pm_1$ --> W $\\widetilde{\\chi}^0_1$\", \\\n",
    "            \"$\\widetilde{\\chi}^0_2$ --> Z $\\widetilde{\\chi}^0_1$\"]\n",
    "write_obs_contours(\"afterCWR_TChiWZ.root\",\"Figure 4b Observed Lines\",obs_contour_lines,\\\n",
    "                   \"Data from Figure 4 (upper right), located on page 14.\", [\"Cross-section\"], \"Figure_004-b.pdf\")\n",
    "\n",
    "write_exp_contours(\"afterCWR_TChiWZ.root\",\"Figure 4b Expected Lines\",exp_contour_lines,\\\n",
    "                   \"Data from Figure 4 (upper  right), located on page 14.\", [\"Cross-section\"], \"Figure_004-b.pdf\")\n",
    "\n",
    "obs_heatmap(\"afterCWR_TChiWZ.root\",\"Figure 4b Observed\",WZobsXsec_desc,\\\n",
    "                   \"Data from Figure 4 (upper right), located on page 14.\", [\"CLS\"], \"Figure_004-b.pdf\")"
   ]
  },
  {
   "cell_type": "code",
   "execution_count": 71,
   "metadata": {
    "scrolled": true
   },
   "outputs": [
    {
     "name": "stdout",
     "output_type": "stream",
     "text": [
      "afterCWR_TChiWH.root\n",
      "obs values len:  266\n",
      "afterCWR_TChiWH.root\n",
      "zvalues 14585\n",
      "xvalues 14585\n",
      "mnlsp variable len:  14585\n"
     ]
    }
   ],
   "source": [
    "# #TChiWH\n",
    "reactWH = [\"P P --> $\\widetilde{\\chi}^\\pm_1$ $\\widetilde{\\chi}^0_2$\", \\\n",
    "           \"$\\widetilde{\\chi}^pm_1$ --> W $\\widetilde{\\chi}^0_1$\", \\\n",
    "            \"$\\widetilde{\\chi}^0_2$ --> H $\\widetilde{\\chi}^0_1$\"]\n",
    "write_obs_contours(\"afterCWR_TChiWH.root\",\"Figure 4c Observed Lines\",obs_contour_lines,\\\n",
    "                   \"Data from Figure 4 (lower), located on page 14.\", [\"Cross-section\"], \"Figure_004-c.pdf\")\n",
    "\n",
    "write_exp_contours(\"afterCWR_TChiWH.root\",\"Figure 4c Expected Lines\",exp_contour_lines,\\\n",
    "                   \"Data from Figure 4 (lower), located on page 14.\", [\"Cross-section\"], \"Figure_004-c.pdf\")\n",
    "\n",
    "obs_heatmap(\"afterCWR_TChiWH.root\",\"Figure 4c Observed\",WHobsXsec_desc,\\\n",
    "                   \"Data from Figure 4 (lower), located on page 14.\", [\"CLS\"], \"Figure_004-c.pdf\")"
   ]
  },
  {
   "cell_type": "code",
   "execution_count": 72,
   "metadata": {},
   "outputs": [
    {
     "name": "stdout",
     "output_type": "stream",
     "text": [
      "obs values len:  247\n"
     ]
    }
   ],
   "source": [
    "# TChiWW + WZ Wino combined Fig 5 left\n",
    "reactWWWZ = [\"P P --> $\\widetilde{\\chi}^\\pm_1$ $\\widetilde{\\chi}^0_2$ & $\\widetilde{\\chi}^\\pm_1$ $\\widetilde{\\chi}^\\mp_1$\", \\\n",
    "           \"$\\widetilde{\\chi}^pm_1$ --> W $\\widetilde{\\chi}^0_1$\", \\\n",
    "            \"$\\widetilde{\\chi}^0_2$ --> Z $\\widetilde{\\chi}^0_1$\"]\n",
    "write_obs_contours(\"test_TChiWW_WZ_afterCWR.root\",\"Figure 5a WW WZ Observed Lines\",obs_contour_lines,\\\n",
    "                   \"Data from Figure 5 (left), located on page 14.\", [\"Cross-section\"], \"Figure_005-a.pdf\")\n",
    "\n",
    "write_exp_contours(\"test_TChiWW_WZ_afterCWR.root\",\"Figure 5a WW WZ Expected Lines\",exp_contour_lines,\\\n",
    "                   \"Data from Figure 5 (left), located on page 14.\", [\"Cross-section\"], \"Figure_005-a.pdf\")\n",
    "\n",
    "# obs_heatmap(\"test_TChiWW_WZ_afterCWR.root\",\"Figure 5a WW WZ Observed\",WWWZobsXsec_desc,\\\n",
    "#                    \"Data from Figure 5 (left), located on page 14.\", [\"CLS\"], \"Figure_005-a.pdf\")"
   ]
  },
  {
   "cell_type": "code",
   "execution_count": 73,
   "metadata": {},
   "outputs": [
    {
     "name": "stdout",
     "output_type": "stream",
     "text": [
      "test_TChiWW_WH_afterCWR.root\n",
      "obs values len:  286\n",
      "test_TChiWW_WH_afterCWR.root\n"
     ]
    }
   ],
   "source": [
    "# TChiWW + WH Wino combined Fig 5 left\n",
    "reactWWWH = [\"P P --> $\\widetilde{\\chi}^\\pm_1$ $\\widetilde{\\chi}^0_2$ & $\\widetilde{\\chi}^\\pm_1$ $\\widetilde{\\chi}^\\mp_1$\", \\\n",
    "           \"$\\widetilde{\\chi}^\\pm_1$ --> W $\\widetilde{\\chi}^0_1$\", \\\n",
    "            \"$\\widetilde{\\chi}^0_2$ --> H $\\widetilde{\\chi}^0_1$\"]\n",
    "write_obs_contours(\"test_TChiWW_WH_afterCWR.root\",\"Figure 5a WW WH Observed Lines\",obs_contour_lines,\\\n",
    "                   \"Data from Figure 5 (left), located on page 15.\", [\"Cross-section\"], \"Figure_005-a.pdf\")\n",
    "\n",
    "write_exp_contours(\"test_TChiWW_WH_afterCWR.root\",\"Figure 5a WW WH Expected Lines\",exp_contour_lines,\\\n",
    "                   \"Data from Figure 5 (left), located on page 15.\", [\"Cross-section\"], \"Figure_005-a.pdf\")\n",
    "\n",
    "# obs_heatmap(\"test_TChiWW_WH_afterCWR.root\",\"Figure 5a WW WH Observed\",WWWHobsXsec_desc,\\\n",
    "#                    \"Data from Figure 5 (left), located on page 15.\", [\"CLS\"], \"Figure_005-a.pdf\")"
   ]
  },
  {
   "cell_type": "code",
   "execution_count": 74,
   "metadata": {},
   "outputs": [
    {
     "name": "stdout",
     "output_type": "stream",
     "text": [
      "obs values len:  67\n",
      "zvalues 15312\n",
      "xvalues 15312\n",
      "mnlsp variable len:  15312\n"
     ]
    }
   ],
   "source": [
    "# Hino combined Fig 5 right\n",
    "reactHINO = [\"P P --> $\\widetilde{\\chi}^\\pm_1$ / $widetilde{\\chi}^0_2$ / $\\widetilde{\\chi}^0_3$\"]\n",
    "write_obs_contours(\"test_TChiWW_WZ_WH_HZ_afterCWR.root\",\"Figure 5b Observed Lines\",obs_contour_lines,\\\n",
    "                   \"Data from Figure 5 (right), located on page 15.\", [\"Cross-section\"], \"Figure_005-b.pdf\")\n",
    "\n",
    "write_exp_contours(\"test_TChiWW_WZ_WH_HZ_afterCWR.root\",\"Figure 5b Expected Lines\",exp_contour_lines,\\\n",
    "                   \"Data from Figure 5 (right), located on page 15.\", [\"Cross-section\"], \"Figure_005-b.pdf\")\n",
    "\n",
    "obs_heatmap(\"test_TChiWW_WZ_WH_HZ_afterCWR.root\",\"Figure 5b Observed\",HinoobsXsec_desc,\\\n",
    "                   \"Data from Figure 5 (right), located on page 15.\", [\"CLS\"], \"Figure_005-b.pdf\")"
   ]
  },
  {
   "cell_type": "code",
   "execution_count": null,
   "metadata": {},
   "outputs": [],
   "source": []
  },
  {
   "cell_type": "code",
   "execution_count": 75,
   "metadata": {
    "scrolled": true
   },
   "outputs": [
    {
     "name": "stdout",
     "output_type": "stream",
     "text": [
      "Full-size PNG file Test2/Figure_003-b.png is newer than its source file.                        Remove the thumbnail file or use create_files(remove_old=True)                           to force recreation.\n",
      "Thumbnail PNG file Test2/thumb_Figure_003-b.png is newer than its source file.                        Remove the thumbnail file or use create_files(remove_old=True)                           to force recreation.\n",
      "Full-size PNG file Test2/Figure_003-c.png is newer than its source file.                        Remove the thumbnail file or use create_files(remove_old=True)                           to force recreation.\n",
      "Thumbnail PNG file Test2/thumb_Figure_003-c.png is newer than its source file.                        Remove the thumbnail file or use create_files(remove_old=True)                           to force recreation.\n",
      "Full-size PNG file Test2/Figure_003-d.png is newer than its source file.                        Remove the thumbnail file or use create_files(remove_old=True)                           to force recreation.\n",
      "Thumbnail PNG file Test2/thumb_Figure_003-d.png is newer than its source file.                        Remove the thumbnail file or use create_files(remove_old=True)                           to force recreation.\n",
      "Full-size PNG file Test2/Figure_004-a.png is newer than its source file.                        Remove the thumbnail file or use create_files(remove_old=True)                           to force recreation.\n",
      "Thumbnail PNG file Test2/thumb_Figure_004-a.png is newer than its source file.                        Remove the thumbnail file or use create_files(remove_old=True)                           to force recreation.\n",
      "Full-size PNG file Test2/Figure_004-a.png is newer than its source file.                        Remove the thumbnail file or use create_files(remove_old=True)                           to force recreation.\n",
      "Thumbnail PNG file Test2/thumb_Figure_004-a.png is newer than its source file.                        Remove the thumbnail file or use create_files(remove_old=True)                           to force recreation.\n",
      "Full-size PNG file Test2/Figure_004-b.png is newer than its source file.                        Remove the thumbnail file or use create_files(remove_old=True)                           to force recreation.\n",
      "Thumbnail PNG file Test2/thumb_Figure_004-b.png is newer than its source file.                        Remove the thumbnail file or use create_files(remove_old=True)                           to force recreation.\n",
      "Full-size PNG file Test2/Figure_004-b.png is newer than its source file.                        Remove the thumbnail file or use create_files(remove_old=True)                           to force recreation.\n",
      "Thumbnail PNG file Test2/thumb_Figure_004-b.png is newer than its source file.                        Remove the thumbnail file or use create_files(remove_old=True)                           to force recreation.\n",
      "Full-size PNG file Test2/Figure_004-c.png is newer than its source file.                        Remove the thumbnail file or use create_files(remove_old=True)                           to force recreation.\n",
      "Thumbnail PNG file Test2/thumb_Figure_004-c.png is newer than its source file.                        Remove the thumbnail file or use create_files(remove_old=True)                           to force recreation.\n",
      "Full-size PNG file Test2/Figure_004-c.png is newer than its source file.                        Remove the thumbnail file or use create_files(remove_old=True)                           to force recreation.\n",
      "Thumbnail PNG file Test2/thumb_Figure_004-c.png is newer than its source file.                        Remove the thumbnail file or use create_files(remove_old=True)                           to force recreation.\n",
      "Full-size PNG file Test2/Figure_005-a.png is newer than its source file.                        Remove the thumbnail file or use create_files(remove_old=True)                           to force recreation.\n",
      "Thumbnail PNG file Test2/thumb_Figure_005-a.png is newer than its source file.                        Remove the thumbnail file or use create_files(remove_old=True)                           to force recreation.\n",
      "Full-size PNG file Test2/Figure_005-a.png is newer than its source file.                        Remove the thumbnail file or use create_files(remove_old=True)                           to force recreation.\n",
      "Thumbnail PNG file Test2/thumb_Figure_005-a.png is newer than its source file.                        Remove the thumbnail file or use create_files(remove_old=True)                           to force recreation.\n",
      "Full-size PNG file Test2/Figure_005-a.png is newer than its source file.                        Remove the thumbnail file or use create_files(remove_old=True)                           to force recreation.\n",
      "Thumbnail PNG file Test2/thumb_Figure_005-a.png is newer than its source file.                        Remove the thumbnail file or use create_files(remove_old=True)                           to force recreation.\n",
      "Full-size PNG file Test2/Figure_005-b.png is newer than its source file.                        Remove the thumbnail file or use create_files(remove_old=True)                           to force recreation.\n",
      "Thumbnail PNG file Test2/thumb_Figure_005-b.png is newer than its source file.                        Remove the thumbnail file or use create_files(remove_old=True)                           to force recreation.\n",
      "Full-size PNG file Test2/Figure_005-b.png is newer than its source file.                        Remove the thumbnail file or use create_files(remove_old=True)                           to force recreation.\n",
      "Thumbnail PNG file Test2/thumb_Figure_005-b.png is newer than its source file.                        Remove the thumbnail file or use create_files(remove_old=True)                           to force recreation.\n"
     ]
    }
   ],
   "source": [
    "submission.create_files(\"Test2\",remove_old=True)"
   ]
  },
  {
   "cell_type": "code",
   "execution_count": null,
   "metadata": {},
   "outputs": [],
   "source": []
  }
 ],
 "metadata": {
  "kernelspec": {
   "display_name": "Python 3",
   "language": "python",
   "name": "python3"
  },
  "language_info": {
   "codemirror_mode": {
    "name": "ipython",
    "version": 3
   },
   "file_extension": ".py",
   "mimetype": "text/x-python",
   "name": "python",
   "nbconvert_exporter": "python",
   "pygments_lexer": "ipython3",
   "version": "3.9.0"
  }
 },
 "nbformat": 4,
 "nbformat_minor": 2
}
